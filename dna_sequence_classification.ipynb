{
 "cells": [
  {
   "cell_type": "markdown",
   "id": "2791b581",
   "metadata": {},
   "source": [
    "# DNA Sequence Classification\n",
    "\n",
    "DNA sequences can be classified in different ways. This demo shows how to build a system with Milvus 2.0 and postgres to determine gene families for DNA sequences and compare similarity between different organisms. It uses k-mer and CountVectorizer to extract features and get embeddings for dna sequences.\n",
    "\n",
    "## Data\n",
    "\n",
    "Sample data is downloaded from [Kaggle](https://www.kaggle.com/nageshsingh/dna-sequence-dataset?select=human.txt). This demo uses 6882 DNA sequences for 3 organisms: human (4380), chimpanzee (1682), dog (820), each of which has lines of DNA sequences with corresponding classes in a text file.\n",
    "\n",
    "     - data:\n",
    "        - human_data.txt\n",
    "        - chimp_data.txt\n",
    "        - dog_data.txt\n",
    "\n",
    "Each text file consists of a head line and lines of sequence (a sequence consisting of bases [A, C, G, T]) with its class (an integer from 0 to 6). Sample:\n",
    "                       \n",
    "     sequence class\n",
    "     GCTGCTGCCCCAGCACCAGGTGTCCGCGTACTGA\t6\n",
    "     CACCGGCCCTCCAGGGTCCAGCTGGTGCCCCAGGACACCATGACCAGCAGGGCCTAA\t0\n",
    "\n",
    "Our DNA sequences are classified into different gene families by class. A gene family is a group of related genes sharing a common ancestor. Members of one gene family may be paralogs or orthologs: gene with similar sequences from same or different species. See explanations for 7 classes in our dataset: [Kaggle](https://www.kaggle.com/nageshsingh/demystify-dna-sequencing-with-machine-learning)\n",
    "\n",
    "| Gene family | Class label |\n",
    "|:---|---|\n",
    "| G protein coupled receptors | 0 |\n",
    "| Tyrosine kinase | 1 |\n",
    "| Tyrosine phosphatase | 2 |\n",
    "| Synthetase | 3 |\n",
    "| Synthase | 4 |\n",
    "| Ion channel | 5 |\n",
    "| Transcription | 6 |\n",
    "     \n",
    "\n",
    "## Requirements\n",
    "\n",
    "We will run codes with python3 and start [Milvus2.0 (Standalone)](https://milvus.io/docs/v2.0.0/install_standalone-docker.md) & postgres with [docker](https://docs.docker.com/get-docker/). Required python modules are listed in `requirements.txt` to install."
   ]
  },
  {
   "cell_type": "markdown",
   "id": "5acd878c",
   "metadata": {},
   "source": [
    "|    Packages    |     Servers    |\n",
    "| --------------- | -------------- |\n",
    "| pymilvus-orm==2.0.0rc1 | milvus-2.0.0-rc1 |\n",
    "|    sklearn    |    mysql    |\n",
    "|   pymysql   |"
    "|     numpy   |"
   ]
  },
  {
   "cell_type": "markdown",
   "id": "0134592f",
   "metadata": {},
   "source": [
    "## Up and Running\n",
    "\n",
    "### Install Packages\n",
    "\n",
    "Install the required python packages with requirements.txt."
   ]
  },
  {
   "cell_type": "code",
   "execution_count": null,
   "id": "eab3ff3d",
   "metadata": {},
   "outputs": [],
   "source": [
    "!pip install -r requirments.txt"
   ]
  },
  {
   "cell_type": "markdown",
   "id": "8f8c5cda",
   "metadata": {},
   "source": [
    "### Start Milvus\n",
    "\n",
    "Download and save docker-compose.standalone.yml as docker-compose.yml. Start Milvus2.0 with docker-compose."
   ]
  },
  {
   "cell_type": "code",
   "execution_count": null,
   "id": "bf19cd94",
   "metadata": {},
   "outputs": [],
   "source": [
    "!wget https://raw.githubusercontent.com/milvus-io/milvus/master/deployments/docker/standalone/docker-compose.yml -O docker-compose.yml\n",
    "!docker-compose up -d"
   ]
  },
  {
   "cell_type": "markdown",
   "id": "3d11edf9",
   "metadata": {},
   "source": [
    "### Start Mysql\n",
    "\n",
    "Milvus2.0 does not suppport string for now. Start mysql as docker container to store and recall non-vector attributes of DNA sequences (eg. id, label/class)."
   ]
  },
  {
   "cell_type": "code",
   "execution_count": null,
   "id": "6e9b030e",
   "metadata": {},
   "outputs": [],
   "source": [
    "!docker run -p 3306:3306 -e MYSQL_ROOT_PASSWORD=123456 -d --name qa_mysql mysql:5.7"
   ]
  },
  {
   "cell_type": "markdown",
   "id": "bd40f465",
   "metadata": {},
   "source": [
    "## Code Overview\n",
    "\n",
    "### Connect to Servers\n",
    "\n",
    "Connect to servers with hosts & ports. In this case, the docker containers are running on localhost and the default ports."
   ]
  },
  {
   "cell_type": "code",
   "execution_count": 1,
   "id": "050822e2",
   "metadata": {},
   "outputs": [],
   "source": [
    "from pymilvus_orm import *\n",
    "import pymysql\n",
    "\n",
    "connections.connect(host='localhost', port='19530')\n",
    "conn = pymysql.connect(host='localhost', user='root', port=3306, password='123456', database='mysql',local_infile=True)\n",
    "cursor = conn.cursor()"
   ]
  },
  {
   "cell_type": "markdown",
   "id": "30d718d3",
   "metadata": {},
   "source": [
    "### Create Collection, Partitions, Index in Milvus\n",
    "\n",
    "#### 1. Create Collection\n",
    "\n",
    "Set collection name and dimension value. Create a collection with fields.\n",
    "- Collection name: dna_seq\n",
    "- Dimension: 768\n",
    "- Fields: pk (primary keys), embedding (dna sequence embeddings)"
   ]
  },
  {
   "cell_type": "code",
   "execution_count": 2,
   "id": "99dac31e",
   "metadata": {},
   "outputs": [
    {
     "name": "stdout",
     "output_type": "stream",
     "text": [
      "Collection is successfully created: dna_seq\n"
     ]
    }
   ],
   "source": [
    "import time\n",
    "\n",
    "time.sleep(.1)\n",
    "\n",
    "collection_name = \"dna_seq\"\n",
    "dim = 768\n",
    "\n",
    "# Drop the previously stored collection for a clear run\n",
    "if utility.has_collection(collection_name) == True:\n",
    "    collection = Collection(collection_name)\n",
    "    collection.drop()\n",
    "\n",
    "# Set fields & schema\n",
    "all_fields = [\n",
    "        schema.FieldSchema(name=\"pk\", dtype=DataType.INT64, is_primary=True),\n",
    "        schema.FieldSchema(name=\"embedding\", dtype=DataType.FLOAT_VECTOR, dim=dim)\n",
    "        #schema.FieldSchema(name=\"class\", dtype=DataType.STRING)\n",
    "        ]\n",
    "default_schema = schema.CollectionSchema(fields=all_fields, \n",
    "                                         description=\"DNA recognition: kmers & vectorizer\", \n",
    "                                         auto_id=False)\n",
    "\n",
    "# Create collection\n",
    "DNA_collection = Collection(name=collection_name, data=None, schema=default_schema)\n",
    "\n",
    "# Check if collection is successfully created\n",
    "if utility.has_collection(collection_name):\n",
    "    print(\n",
    "    \"Collection is successfully created: \" + collection_name)\n",
    "else:\n",
    "    raise Exception(\"Fail to create collection: \" + collection_name)"
   ]
  },
  {
   "cell_type": "markdown",
   "id": "5eb9b187",
   "metadata": {},
   "source": [
    "#### 2. Create Partitions\n",
    "\n",
    "Create 3 partitions with proper names: human, chimp, dog"
   ]
  },
  {
   "cell_type": "code",
   "execution_count": 3,
   "id": "c71e4e6f",
   "metadata": {},
   "outputs": [
    {
     "data": {
      "text/plain": [
       "[{\"name\": \"_default\", \"description\": \"\", \"num_entities\": 0},\n",
       " {\"name\": \"human\", \"description\": \"\", \"num_entities\": 0},\n",
       " {\"name\": \"chimp\", \"description\": \"\", \"num_entities\": 0},\n",
       " {\"name\": \"dog\", \"description\": \"\", \"num_entities\": 0}]"
      ]
     },
     "execution_count": 3,
     "metadata": {},
     "output_type": "execute_result"
    }
   ],
   "source": [
    "human_partition = DNA_collection.create_partition('human')\n",
    "chimp_partition = DNA_collection.create_partition('chimp')\n",
    "dog_partition = DNA_collection.create_partition('dog')\n",
    "\n",
    "DNA_collection.partitions"
   ]
  },
  {
   "cell_type": "markdown",
   "id": "f678dddc",
   "metadata": {},
   "source": [
    "#### 3. Set Index\n",
    "\n",
    "Set index parameters after collection is created. Here index type is IVF_SQ8 and metric type is Inner Product."
   ]
  },
  {
   "cell_type": "code",
   "execution_count": 4,
   "id": "e0280182",
   "metadata": {},
   "outputs": [
    {
     "name": "stdout",
     "output_type": "stream",
     "text": [
      "Index is successfully set for collection dna_seq\n"
     ]
    }
   ],
   "source": [
    "index_params = {\n",
    "    'index_type': 'IVF_SQ8',\n",
    "    'params': {'nlist': 512},\n",
    "    'metric_type': 'IP'\n",
    "    }\n",
    "\n",
    "DNA_collection.create_index(field_name=\"embedding\", index_params=index_params)\n",
    "\n",
    "# Check if index is successfully set\n",
    "if DNA_collection.has_index():\n",
    "    print(\"Index is successfully set for collection \" + collection_name)\n",
    "else:\n",
    "    raise Exception(\"Fail to set index for collection \" + collection_name)"
   ]
  },
  {
   "cell_type": "markdown",
   "id": "a32fed43",
   "metadata": {},
   "source": [
    "### Create Table in Mysql\n",
    "\n",
    "Create a table with collection name in mySQL to store milvus ids (i.e. field \"pk\") and corresponding labels."
   ]
  },
  {
   "cell_type": "code",
   "execution_count": 5,
   "id": "4dbc3a1d",
   "metadata": {},
   "outputs": [
    {
     "name": "stdout",
     "output_type": "stream",
     "text": [
      "create MySQL table successfully!\n"
     ]
    }
   ],
   "source": [
    "# Delete previously stored table for a clean run\n",
    "drop_table = \"DROP TABLE IF EXISTS \" + collection_name + \";\"\n",
    "cursor.execute(drop_table)\n",
    "\n",
    "try:\n",
    "    sql = \"CREATE TABLE if not exists \" + collection_name + \" (pk TEXT, label TEXT);\"\n",
    "    cursor.execute(sql)\n",
    "    print(\"create MySQL table successfully!\")\n",
    "except Exception as e:\n",
    "    print(\"can't create a MySQL table: \", e)"
   ]
  },
  {
   "cell_type": "markdown",
   "id": "10b04c32",
   "metadata": {},
   "source": [
    "### Process & Store Datasets\n",
    "\n",
    "#### 1. Get Data\n",
    "\n",
    "Read data from text files as dataframes. Rebuild data and replace original columns with:\n",
    "- sequence --> subsequences by [k-mer](https://en.wikipedia.org/wiki/K-mer#:~:text=Usually%2C%20the%20term%20k%2Dmer,total%20possible%20k%2Dmers%2C%20where) (k=5)\n",
    "- class --> label declaring organism & class (e.g. human: 0)"
   ]
  },
  {
   "cell_type": "code",
   "execution_count": 6,
   "id": "6be95f2b",
   "metadata": {},
   "outputs": [
    {
     "name": "stdout",
     "output_type": "stream",
     "text": [
      "                                            sequence     label  \\\n",
      "0  ATGCCCCAACTAAATACTACCGTATGGCCCACCATAATTACCCCCA...  human: 4   \n",
      "1  ATGAACGAAAATCTGTTCGCTTCATTCATTGCCCCCACAATCCTAG...  human: 4   \n",
      "2  ATGTGTGGCATTTGGGCGCTGTTTGGCAGTGATGATTGCCTTTCTG...  human: 3   \n",
      "3  ATGTGTGGCATTTGGGCGCTGTTTGGCAGTGATGATTGCCTTTCTG...  human: 3   \n",
      "4  ATGCAACAGCATTTTGAATTTGAATACCAGACCAAAGTGGATGGTG...  human: 3   \n",
      "\n",
      "                                               kmers  \n",
      "0  [ATGC, TGCC, GCCC, CCCC, CCCA, CCAA, CAAC, AAC...  \n",
      "1  [ATGA, TGAA, GAAC, AACG, ACGA, CGAA, GAAA, AAA...  \n",
      "2  [ATGT, TGTG, GTGT, TGTG, GTGG, TGGC, GGCA, GCA...  \n",
      "3  [ATGT, TGTG, GTGT, TGTG, GTGG, TGGC, GGCA, GCA...  \n",
      "4  [ATGC, TGCA, GCAA, CAAC, AACA, ACAG, CAGC, AGC...  \n"
     ]
    }
   ],
   "source": [
    "import numpy as np\n",
    "import pandas as pd\n",
    "\n",
    "# Function to get k-mers for sequence s\n",
    "def build_kmers(s, k):\n",
    "    kmers = []\n",
    "    n = len(s) - k + 1\n",
    "\n",
    "    for i in range(n):\n",
    "        kmer = s[i : i+k].upper()\n",
    "        kmers.append(kmer)\n",
    "\n",
    "    return kmers\n",
    "\n",
    "# Function to replace sequence column with kmers in df\n",
    "def seq_to_kmers(df):\n",
    "    df['kmers'] = df.apply(lambda x: build_kmers(x['sequence'], 4), axis =1)\n",
    "    df = df.drop(['sequence'],axis=1)\n",
    "\n",
    "\n",
    "# Read files\n",
    "human = pd.read_table('./data/human_data.txt')\n",
    "chimp = pd.read_table('./data/chimp_data.txt')\n",
    "dog = pd.read_table('./data/dog_data.txt')\n",
    "\n",
    "# Replace classes with labels (organism: class)\n",
    "human['label']=['human: ' + str(x) for x in human['class']]\n",
    "human = human.drop(['class'], axis=1)\n",
    "chimp['label']=['chimp: ' + str(x) for x in chimp['class']]\n",
    "chimp = chimp.drop(['class'], axis=1)\n",
    "dog['label']=['dog: ' + str(x) for x in dog['class']]\n",
    "dog = dog.drop(['class'], axis=1)\n",
    "\n",
    "seq_to_kmers(human)\n",
    "seq_to_kmers(chimp)\n",
    "seq_to_kmers(dog)\n",
    "\n",
    "# Combine all dataframes\n",
    "#df = human.append(chimp).append(dog)\n",
    "#df = df.sample(frac=1,random_state=1)\n",
    "#seq_to_kmers(df)\n",
    "\n",
    "print(human.head())\n",
    "#print(chimp.head())\n",
    "#print(dog.head())"
   ]
  },
  {
   "cell_type": "markdown",
   "id": "a3ecdfa4",
   "metadata": {},
   "source": [
    "Get lists of texts for DNA sequences in k-mers & labels. Split 20 human data to test search performance."
   ]
  },
  {
   "cell_type": "code",
   "execution_count": 7,
   "id": "14f3aba4",
   "metadata": {},
   "outputs": [
    {
     "name": "stdout",
     "output_type": "stream",
     "text": [
      "train row count: 6862\n",
      "human(4360) chimp(1682) dog(820)\n",
      "test row count: 20\n"
     ]
    }
   ],
   "source": [
    "# Get lists of sequences in k-mers and labels in text from dataframe\n",
    "def mydata(df):\n",
    "    texts = []\n",
    "    labels = []\n",
    "    words = list(df['kmers']) # list of all sequences in kmers\n",
    "\n",
    "    for i in range(len(words)):\n",
    "        texts.append(' '.join(words[i])) \n",
    "    \n",
    "    for x in df['label']:\n",
    "        labels.append(x)\n",
    "\n",
    "    if len(texts)!=len(labels):\n",
    "        raise Exception(\"Texts & labels length are not equal!\")\n",
    "        \n",
    "    return (texts, labels)\n",
    "    \n",
    "human_texts, human_labels = mydata(human)\n",
    "chimp_texts, chimp_labels = mydata(chimp)\n",
    "dog_texts, dog_labels = mydata(dog)\n",
    "\n",
    "# Split human data to test search performance\n",
    "test_texts = human_texts[-20:]\n",
    "actual_labels = human_labels[-20:]\n",
    "human_texts = human_texts[:-20]\n",
    "human_labels = human_labels[:-20]\n",
    "\n",
    "train_texts = human_texts + chimp_texts + dog_texts\n",
    "train_labels = human_labels + chimp_labels + dog_labels\n",
    "\n",
    "print(\"train row count:\", len(train_texts))\n",
    "print(\"human({})\".format(str(len(human_texts)))\n",
    "      +\" chimp({})\".format(str(len(chimp_texts)))\n",
    "      +\" dog({})\".format(str(len(dog_texts))))\n",
    "print(\"test row count:\", len(test_texts))"
   ]
  },
  {
   "cell_type": "markdown",
   "id": "8ee3c37d",
   "metadata": {},
   "source": [
    "#### 2. Generate Embeddings\n",
    "\n",
    "Extract features for DNA sequences (after k-mers) by `CountVectorizer` with previously declared dimension. Normalize output by `sklearn.preprocessing` to get final embeddings."
   ]
  },
  {
   "cell_type": "code",
   "execution_count": 25,
   "id": "c75165f3",
   "metadata": {},
   "outputs": [],
   "source": [
    "from sklearn.feature_extraction.text import CountVectorizer\n",
    "from sklearn import preprocessing\n",
    "\n",
    "# Transform sequences in kmers to vectors\n",
    "def char_to_vec(v_model, text):\n",
    "    V = v_model.transform(text).toarray()\n",
    "    #features = vectorizer.get_feature_names()\n",
    "    embeddings = preprocessing.normalize(V)\n",
    "    return embeddings\n",
    "\n",
    "# Train vectorizer model \n",
    "vectorizer = CountVectorizer(ngram_range=(4,4), max_features=dim)\n",
    "X = vectorizer.fit_transform(train_texts).toarray()\n",
    "train_emb = list(preprocessing.normalize(X))\n",
    "# print(vectorizer.get_feature_names())\n",
    "\n",
    "human_emb = train_emb[:len(human_texts)]\n",
    "chimp_emb = train_emb[len(human_texts):(len(human_texts)+len(chimp_texts))]\n",
    "dog_emb = train_emb[(len(human_texts)+len(chimp_texts)):len(train_texts)]"
   ]
  },
  {
   "cell_type": "markdown",
   "id": "8846ba6c",
   "metadata": {},
   "source": [
    "#### 3. Insert data\n",
    "\n",
    "##### Insert to Milvus\n",
    "\n",
    "Insert all embeddings to corresponding partitions with proper primary keys. Don't insert if there exists previous data in collection."
   ]
  },
  {
   "cell_type": "code",
   "execution_count": 26,
   "id": "86c223ba",
   "metadata": {},
   "outputs": [
    {
     "name": "stdout",
     "output_type": "stream",
     "text": [
      "[{\"name\": \"_default\", \"description\": \"\", \"num_entities\": 0}, {\"name\": \"human\", \"description\": \"\", \"num_entities\": 4360}, {\"name\": \"chimp\", \"description\": \"\", \"num_entities\": 1682}, {\"name\": \"dog\", \"description\": \"\", \"num_entities\": 820}]\n"
     ]
    }
   ],
   "source": [
    "human_pk = [x for x in range(len(human_emb))]\n",
    "chimp_pk = [x for x in range(len(human_emb), len(human_emb)+len(chimp_emb))]\n",
    "dog_pk = [x for x in range(len(human_emb)+len(chimp_emb), len(train_emb))]\n",
    "\n",
    "if DNA_collection.num_entities == 0:\n",
    "    DNA_human = DNA_collection.insert([human_pk, human_emb], partition_name='human')\n",
    "    DNA_chimp = DNA_collection.insert([chimp_pk, chimp_emb], partition_name='chimp')\n",
    "    DNA_dog = DNA_collection.insert([dog_pk, dog_emb], partition_name='dog')\n",
    "\n",
    "    if DNA_collection.is_empty:\n",
    "        print(\"Insert collection failed.\")\n",
    "    else:\n",
    "        print(DNA_collection.partitions)\n",
    "else:\n",
    "    print(\"Previous data in this collection!\")"
   ]
  },
  {
   "cell_type": "markdown",
   "id": "e2b0585e",
   "metadata": {},
   "source": [
    "##### Insert to Mysql\n",
    "\n",
    "Insert primary keys in Milvus and corresponding labels into Mysql."
   ]
  },
  {
   "cell_type": "code",
   "execution_count": 27,
   "id": "0e62f571",
   "metadata": {},
   "outputs": [
    {
     "name": "stdout",
     "output_type": "stream",
     "text": [
      "MYSQL loads data to table: dna_seq successfully\n"
     ]
    }
   ],
   "source": [
    "import os \n",
    "\n",
    "# Combine pk and label into a list\n",
    "def format_data(pk, label):\n",
    "    data = []\n",
    "    for i in range(len(pk)):\n",
    "        value = (str(pk[i]), label[i])\n",
    "        data.append(value)\n",
    "    return data\n",
    "\n",
    "def load_data_to_mysql(cursor, conn, table_name, data):\n",
    "    sql = \"insert into \" + table_name + \" (pk,label) values (%s,%s);\"\n",
    "    try:\n",
    "        cursor.executemany(sql, data)\n",
    "        conn.commit()\n",
    "        print(\"MYSQL loads data to table: {} successfully\".format(table_name))\n",
    "    except Exception as e:\n",
    "        print(\"MYSQL ERROR: {} with sql: {}\".format(e, sql))\n",
    "\n",
    "all_pk = human_pk + chimp_pk + dog_pk\n",
    "load_data_to_mysql(cursor, conn, collection_name, format_data(all_pk, train_labels))"
   ]
  },
  {
   "cell_type": "markdown",
   "id": "f7f1cea5",
   "metadata": {},
   "source": [
    "### Search\n",
    "\n",
    "Load collection. Set search parameters with Inner Product as metric_type and nprobe of 20."
   ]
  },
  {
   "cell_type": "code",
   "execution_count": 28,
   "id": "086c7e21",
   "metadata": {},
   "outputs": [],
   "source": [
    "DNA_collection.load()\n",
    "search_params = {\"metric_type\": \"IP\", \"params\": {\"nprobe\": 20}}"
   ]
  },
  {
   "cell_type": "markdown",
   "id": "c5d460f2",
   "metadata": {},
   "source": [
    "#### 1. Classify DNA Sequences\n",
    "\n",
    "The aim is to classify 20 human DNA sequences with labels. Inputs are pre-processed subsequences in text by k-mers (k=4)."
   ]
  },
  {
   "cell_type": "code",
   "execution_count": 30,
   "id": "95512ddc",
   "metadata": {},
   "outputs": [
    {
     "data": {
      "text/html": [
       "<div>\n",
       "<style scoped>\n",
       "    .dataframe tbody tr th:only-of-type {\n",
       "        vertical-align: middle;\n",
       "    }\n",
       "\n",
       "    .dataframe tbody tr th {\n",
       "        vertical-align: top;\n",
       "    }\n",
       "\n",
       "    .dataframe thead th {\n",
       "        text-align: right;\n",
       "    }\n",
       "</style>\n",
       "<table border=\"1\" class=\"dataframe\">\n",
       "  <thead>\n",
       "    <tr style=\"text-align: right;\">\n",
       "      <th></th>\n",
       "      <th>0</th>\n",
       "    </tr>\n",
       "  </thead>\n",
       "  <tbody>\n",
       "    <tr>\n",
       "      <th>0</th>\n",
       "      <td>ATGG TGGT GGTG GTGC TGCA GCAC CACG ACGT CGTA G...</td>\n",
       "    </tr>\n",
       "    <tr>\n",
       "      <th>1</th>\n",
       "      <td>ATGG TGGT GGTG GTGC TGCA GCAC CACG ACGT CGTA G...</td>\n",
       "    </tr>\n",
       "    <tr>\n",
       "      <th>2</th>\n",
       "      <td>ATGC TGCA GCAG CAGT AGTC GTCC TCCT CCTT CTTT T...</td>\n",
       "    </tr>\n",
       "    <tr>\n",
       "      <th>3</th>\n",
       "      <td>ATGC TGCA GCAG CAGT AGTC GTCC TCCT CCTT CTTT T...</td>\n",
       "    </tr>\n",
       "    <tr>\n",
       "      <th>4</th>\n",
       "      <td>ATGG TGGG GGGG GGGC GGCA GCAC CACC ACCT CCTG C...</td>\n",
       "    </tr>\n",
       "  </tbody>\n",
       "</table>\n",
       "</div>"
      ],
      "text/plain": [
       "                                                   0\n",
       "0  ATGG TGGT GGTG GTGC TGCA GCAC CACG ACGT CGTA G...\n",
       "1  ATGG TGGT GGTG GTGC TGCA GCAC CACG ACGT CGTA G...\n",
       "2  ATGC TGCA GCAG CAGT AGTC GTCC TCCT CCTT CTTT T...\n",
       "3  ATGC TGCA GCAG CAGT AGTC GTCC TCCT CCTT CTTT T...\n",
       "4  ATGG TGGG GGGG GGGC GGCA GCAC CACC ACCT CCTG C..."
      ]
     },
     "execution_count": 30,
     "metadata": {},
     "output_type": "execute_result"
    }
   ],
   "source": [
    "pd.DataFrame(test_texts).head(5)"
   ]
  },
  {
   "cell_type": "markdown",
   "id": "91054c48",
   "metadata": {},
   "source": [
    "Transform each input to vector with pre-trained vectorizer model."
   ]
  },
  {
   "cell_type": "code",
   "execution_count": 31,
   "id": "307498e3",
   "metadata": {},
   "outputs": [],
   "source": [
    "def get_vector(text, vectorizer):\n",
    "    x = vectorizer.transform(text).toarray()\n",
    "    return list(preprocessing.normalize(x))\n",
    "\n",
    "test_emb = get_vector(test_texts, vectorizer)"
   ]
  },
  {
   "cell_type": "markdown",
   "id": "7c4493df",
   "metadata": {},
   "source": [
    "Search for top 10 results in human partition for each input vector"
   ]
  },
  {
   "cell_type": "code",
   "execution_count": 32,
   "id": "2a57e056",
   "metadata": {},
   "outputs": [
    {
     "name": "stdout",
     "output_type": "stream",
     "text": [
      "\n",
      "Search...\n",
      "search latency = 0.0704s\n"
     ]
    }
   ],
   "source": [
    "start_time = time.time()\n",
    "print(f\"\\nSearch...\")\n",
    "# define output_fields of search result\n",
    "res = DNA_collection.search(test_emb, \"embedding\", search_params,\n",
    "                                    limit=10, partition_names=['human'])\n",
    "end_time = time.time()\n",
    "print(\"search latency = %.4fs\" % (end_time - start_time))"
   ]
  },
  {
   "cell_type": "markdown",
   "id": "9f0e9773",
   "metadata": {},
   "source": [
    "Display search result (recall labels from mysql by result ids)"
   ]
  },
  {
   "cell_type": "code",
   "execution_count": 43,
   "id": "4adce68e",
   "metadata": {},
   "outputs": [
    {
     "name": "stdout",
     "output_type": "stream",
     "text": [
      "\n",
      "Search for 'human: 2'\n",
      "[label] distance\n",
      "['human: 2'] 0.9989492893218994\n",
      "['human: 2'] 0.8342950344085693\n",
      "['human: 0'] 0.4820196032524109\n",
      "['human: 2'] 0.4706612527370453\n",
      "['human: 2'] 0.45009833574295044\n",
      "['human: 2'] 0.43965673446655273\n",
      "['human: 2'] 0.43965673446655273\n",
      "['human: 2'] 0.43837034702301025\n",
      "['human: 2'] 0.4377063512802124\n",
      "['human: 2'] 0.4377063512802124\n",
      "\n",
      "Search for 'human: 2'\n",
      "[label] distance\n",
      "['human: 2'] 1.0005401372909546\n",
      "['human: 2'] 0.833221435546875\n",
      "['human: 2'] 0.5640522241592407\n",
      "['human: 0'] 0.5629091262817383\n",
      "['human: 2'] 0.5394078493118286\n",
      "['human: 1'] 0.4974484145641327\n",
      "['human: 1'] 0.4974484145641327\n",
      "['human: 5'] 0.48696374893188477\n",
      "['human: 3'] 0.4842258393764496\n",
      "['human: 3'] 0.48282450437545776\n",
      "\n",
      "Search for 'human: 6'\n",
      "[label] distance\n",
      "['human: 6'] 1.0000619888305664\n",
      "['human: 6'] 1.0000619888305664\n",
      "['human: 6'] 1.0000619888305664\n",
      "['human: 6'] 0.9994853734970093\n",
      "['human: 6'] 0.9994853734970093\n",
      "['human: 6'] 0.9994853734970093\n",
      "['human: 6'] 0.9977619051933289\n",
      "['human: 6'] 0.9977619051933289\n",
      "['human: 6'] 0.9972631931304932\n",
      "['human: 6'] 0.9972631931304932\n",
      "\n",
      "Search for 'human: 6'\n",
      "[label] distance\n",
      "['human: 6'] 1.000343918800354\n",
      "['human: 6'] 1.000343918800354\n",
      "['human: 6'] 0.9997824430465698\n",
      "['human: 6'] 0.9997824430465698\n",
      "['human: 6'] 0.9997824430465698\n",
      "['human: 6'] 0.9997824430465698\n",
      "['human: 6'] 0.9974417686462402\n",
      "['human: 6'] 0.9974417686462402\n",
      "['human: 6'] 0.9974417686462402\n",
      "['human: 6'] 0.9969177842140198\n",
      "\n",
      "Search for 'human: 6'\n",
      "[label] distance\n",
      "['human: 6'] 1.0010714530944824\n",
      "['human: 6'] 1.000732660293579\n",
      "['human: 6'] 1.000732660293579\n",
      "['human: 6'] 1.000732660293579\n",
      "['human: 6'] 1.000732660293579\n",
      "['human: 6'] 1.000732660293579\n",
      "['human: 6'] 0.6601024866104126\n",
      "['human: 6'] 0.6601024866104126\n",
      "['human: 6'] 0.6601024866104126\n",
      "['human: 6'] 0.6595988869667053\n",
      "\n",
      "Search for 'human: 6'\n",
      "[label] distance\n",
      "['human: 6'] 1.000222086906433\n",
      "['human: 6'] 1.000222086906433\n",
      "['human: 6'] 0.9997697472572327\n",
      "['human: 6'] 0.9997697472572327\n",
      "['human: 6'] 0.9997697472572327\n",
      "['human: 6'] 0.9997697472572327\n",
      "['human: 6'] 0.46125033497810364\n",
      "['human: 6'] 0.46125033497810364\n",
      "['human: 6'] 0.46115735173225403\n",
      "['human: 6'] 0.46115735173225403\n",
      "\n",
      "Search for 'human: 0'\n",
      "[label] distance\n",
      "['human: 0'] 1.0009042024612427\n",
      "['human: 0'] 0.9999340772628784\n",
      "['human: 0'] 0.9999340772628784\n",
      "['human: 0'] 0.9999340772628784\n",
      "['human: 0'] 0.8237062692642212\n",
      "['human: 0'] 0.7751079797744751\n",
      "['human: 0'] 0.702454686164856\n",
      "['human: 0'] 0.5710573196411133\n",
      "['human: 0'] 0.5710573196411133\n",
      "['human: 0'] 0.335390567779541\n",
      "\n",
      "Search for 'human: 0'\n",
      "[label] distance\n",
      "['human: 0'] 1.0009042024612427\n",
      "['human: 0'] 0.9999340772628784\n",
      "['human: 0'] 0.9999340772628784\n",
      "['human: 0'] 0.9999340772628784\n",
      "['human: 0'] 0.8237062692642212\n",
      "['human: 0'] 0.7751079797744751\n",
      "['human: 0'] 0.702454686164856\n",
      "['human: 0'] 0.5710573196411133\n",
      "['human: 0'] 0.5710573196411133\n",
      "['human: 0'] 0.335390567779541\n",
      "\n",
      "Search for 'human: 0'\n",
      "[label] distance\n",
      "['human: 0'] 1.0009042024612427\n",
      "['human: 0'] 0.9999340772628784\n",
      "['human: 0'] 0.9999340772628784\n",
      "['human: 0'] 0.9999340772628784\n",
      "['human: 0'] 0.8237062692642212\n",
      "['human: 0'] 0.7751079797744751\n",
      "['human: 0'] 0.702454686164856\n",
      "['human: 0'] 0.5710573196411133\n",
      "['human: 0'] 0.5710573196411133\n",
      "['human: 0'] 0.335390567779541\n",
      "\n",
      "Search for 'human: 0'\n",
      "[label] distance\n",
      "['human: 0'] 1.0009042024612427\n",
      "['human: 0'] 0.9999340772628784\n",
      "['human: 0'] 0.9999340772628784\n",
      "['human: 0'] 0.9999340772628784\n",
      "['human: 0'] 0.8237062692642212\n",
      "['human: 0'] 0.7751079797744751\n",
      "['human: 0'] 0.702454686164856\n",
      "['human: 0'] 0.5710573196411133\n",
      "['human: 0'] 0.5710573196411133\n",
      "['human: 0'] 0.335390567779541\n",
      "\n",
      "Search for 'human: 0'\n",
      "[label] distance\n",
      "['human: 0'] 0.9998822212219238\n",
      "['human: 0'] 0.930645763874054\n",
      "['human: 0'] 0.8642610907554626\n",
      "['human: 0'] 0.8244253396987915\n",
      "['human: 0'] 0.8238476514816284\n",
      "['human: 0'] 0.8238476514816284\n",
      "['human: 0'] 0.8238476514816284\n",
      "['human: 0'] 0.7021931409835815\n",
      "['human: 0'] 0.7021931409835815\n",
      "['human: 5'] 0.2969568967819214\n",
      "\n",
      "Search for 'human: 0'\n",
      "[label] distance\n",
      "['human: 0'] 1.0002806186676025\n",
      "['human: 0'] 0.9301581382751465\n",
      "['human: 0'] 0.9289310574531555\n",
      "['human: 0'] 0.7753638029098511\n",
      "['human: 0'] 0.7749854922294617\n",
      "['human: 0'] 0.7749854922294617\n",
      "['human: 0'] 0.7749854922294617\n",
      "['human: 0'] 0.7545373439788818\n",
      "['human: 0'] 0.7545373439788818\n",
      "['human: 0'] 0.4115287959575653\n",
      "\n",
      "Search for 'human: 0'\n",
      "[label] distance\n",
      "['human: 0'] 1.0002764463424683\n",
      "['human: 0'] 0.9286741018295288\n",
      "['human: 0'] 0.8636685013771057\n",
      "['human: 0'] 0.8125452399253845\n",
      "['human: 0'] 0.8125452399253845\n",
      "['human: 0'] 0.7025938034057617\n",
      "['human: 0'] 0.7020969390869141\n",
      "['human: 0'] 0.7020969390869141\n",
      "['human: 0'] 0.7020969390869141\n",
      "['human: 0'] 0.44319581985473633\n",
      "\n",
      "Search for 'human: 0'\n",
      "[label] distance\n",
      "['human: 0'] 1.0005877017974854\n",
      "['human: 0'] 1.0005877017974854\n",
      "['human: 0'] 0.8125108480453491\n",
      "['human: 0'] 0.7542754411697388\n",
      "['human: 0'] 0.7015416622161865\n",
      "['human: 0'] 0.5710846781730652\n",
      "['human: 0'] 0.5705868601799011\n",
      "['human: 0'] 0.5705868601799011\n",
      "['human: 0'] 0.5705868601799011\n",
      "['human: 0'] 0.5459185242652893\n",
      "\n",
      "Search for 'human: 0'\n",
      "[label] distance\n",
      "['human: 0'] 1.0005877017974854\n",
      "['human: 0'] 1.0005877017974854\n",
      "['human: 0'] 0.8125108480453491\n",
      "['human: 0'] 0.7542754411697388\n",
      "['human: 0'] 0.7015416622161865\n",
      "['human: 0'] 0.5710846781730652\n",
      "['human: 0'] 0.5705868601799011\n",
      "['human: 0'] 0.5705868601799011\n",
      "['human: 0'] 0.5705868601799011\n",
      "['human: 0'] 0.5459185242652893\n",
      "\n",
      "Search for 'human: 0'\n",
      "[label] distance\n",
      "['human: 0'] 1.0007163286209106\n",
      "['human: 0'] 0.5455437302589417\n",
      "['human: 0'] 0.5455437302589417\n",
      "['human: 0'] 0.44318917393684387\n",
      "['human: 0'] 0.41080909967422485\n",
      "['human: 4'] 0.3902554512023926\n",
      "['human: 0'] 0.38247379660606384\n",
      "['human: 4'] 0.38167616724967957\n",
      "['human: 0'] 0.3358272910118103\n",
      "['human: 0'] 0.3358272910118103\n",
      "\n",
      "Search for 'human: 6'\n",
      "[label] distance\n",
      "['human: 6'] 1.0000619888305664\n",
      "['human: 6'] 1.0000619888305664\n",
      "['human: 6'] 1.0000619888305664\n",
      "['human: 6'] 0.9994853734970093\n",
      "['human: 6'] 0.9994853734970093\n",
      "['human: 6'] 0.9994853734970093\n",
      "['human: 6'] 0.9977619051933289\n",
      "['human: 6'] 0.9977619051933289\n",
      "['human: 6'] 0.9972631931304932\n",
      "['human: 6'] 0.9972631931304932\n",
      "\n",
      "Search for 'human: 6'\n",
      "[label] distance\n",
      "['human: 6'] 1.000343918800354\n",
      "['human: 6'] 1.000343918800354\n",
      "['human: 6'] 0.9997824430465698\n",
      "['human: 6'] 0.9997824430465698\n",
      "['human: 6'] 0.9997824430465698\n",
      "['human: 6'] 0.9997824430465698\n",
      "['human: 6'] 0.9974417686462402\n",
      "['human: 6'] 0.9974417686462402\n",
      "['human: 6'] 0.9974417686462402\n",
      "['human: 6'] 0.9969177842140198\n",
      "\n",
      "Search for 'human: 6'\n",
      "[label] distance\n",
      "['human: 6'] 1.0010714530944824\n",
      "['human: 6'] 1.000732660293579\n",
      "['human: 6'] 1.000732660293579\n",
      "['human: 6'] 1.000732660293579\n",
      "['human: 6'] 1.000732660293579\n",
      "['human: 6'] 1.000732660293579\n",
      "['human: 6'] 0.6601024866104126\n",
      "['human: 6'] 0.6601024866104126\n",
      "['human: 6'] 0.6601024866104126\n",
      "['human: 6'] 0.6595988869667053\n",
      "\n",
      "Search for 'human: 6'\n",
      "[label] distance\n",
      "['human: 6'] 1.000222086906433\n",
      "['human: 6'] 1.000222086906433\n",
      "['human: 6'] 0.9997697472572327\n",
      "['human: 6'] 0.9997697472572327\n",
      "['human: 6'] 0.9997697472572327\n",
      "['human: 6'] 0.9997697472572327\n",
      "['human: 6'] 0.46125033497810364\n",
      "['human: 6'] 0.46125033497810364\n",
      "['human: 6'] 0.46115735173225403\n",
      "['human: 6'] 0.46115735173225403\n"
     ]
    }
   ],
   "source": [
    "def get_label_by_pk(cursor, m_pk, table_name):\n",
    "    sql = \"select label from \" + table_name + \" where pk=\" + str(m_pk) +\";\"\n",
    "    try:\n",
    "        cursor.execute(sql)\n",
    "        myresult = cursor.fetchall()\n",
    "        myresult = [x[0] for x in myresult]\n",
    "        return myresult\n",
    "    except Exception as e:\n",
    "        print(\"MYSQL ERROR: {} with sql: {}\".format(e, sql))\n",
    "        \n",
    "for i in range(len(res)):\n",
    "    print(\"\\nSearch for '{}'\".format(actual_labels[i]))\n",
    "    print('[label]', 'distance')\n",
    "    for x in res[i]:\n",
    "        C = get_label_by_pk(cursor, str(x.id), collection_name)\n",
    "        D = x.distance\n",
    "        print(C, D)"
   ]
  },
  {
   "cell_type": "markdown",
   "id": "a036bafe",
   "metadata": {},
   "source": [
    "#### 2. Compare Similarity\n",
    "\n",
    "According to IP distance value got from similarity search in Milvus, we can compare similarities between organisms.\n",
    "\n",
    "Query search to get embeddings in each Milvus partition of chimp & dog. For now, Milvus2.0 does not support to output embeddings directly."
   ]
  },
  {
   "cell_type": "code",
   "execution_count": 44,
   "id": "19f6fb3f",
   "metadata": {},
   "outputs": [],
   "source": [
    "\"\"\"\n",
    "expr_chimp = f\"pk in {DNA_chimp.primary_keys}\"       \n",
    "query_chimp = DNA_collection.query(expr_chimp)\n",
    "\n",
    "expr_dog = f\"pk in {DNA_dog.primary_keys}\"       \n",
    "query_dog = DNA_collection.query(expr_dog)\n",
    "\"\"\""
   ]
  },
  {
   "cell_type": "markdown",
   "id": "e22ef244",
   "metadata": {},
   "source": [
    "Search top 3 results for 800 chimp/dog vectors in human partition. Average distances to reflect how close between chimp/dog and human DNA sequences. The larger the IP distance, the closer between organisims with respect to DNA sequence."
   ]
  },
  {
   "cell_type": "code",
   "execution_count": 57,
   "id": "654eed93",
   "metadata": {
    "scrolled": true
   },
   "outputs": [
    {
     "name": "stdout",
     "output_type": "stream",
     "text": [
      "chimp-human similarity score: 0.9704131434112787\n",
      "dog-human similarity score: 0.7045934567973018\n"
     ]
    }
   ],
   "source": [
    "chimp_res = DNA_collection.search(chimp_emb[:800], \"embedding\", search_params,\n",
    "                                    limit=1, partition_names=['human'])\n",
    "dog_res = DNA_collection.search(dog_emb[:800], \"embedding\", search_params,\n",
    "                                    limit=1, partition_names=['human'])\n",
    "\n",
    "def similarity(search_res):\n",
    "    total_d = 0\n",
    "    for hits in search_res:\n",
    "        total_d = total_d + sum(hits.distances)/len(hits)\n",
    "    return total_d/(len(search_res))\n",
    "\n",
    "print('chimp-human similarity score:', similarity(chimp_res))\n",
    "print('dog-human similarity score:', similarity(dog_res))"
   ]
  },
  {
   "cell_type": "markdown",
   "id": "2018703e",
   "metadata": {},
   "source": [
    "From above similarity scores from milvus, we can tell that chimpanzee is closer to human compared to dog, fitting the [biological research facts](https://education.seattlepi.com/animals-share-human-dna-sequences-6693.html) \"...humans share 98.8 percent of their DNA with bonobos and chimpanzees...Humans and dogs share 84 percent of their DNA\""
   ]
  },
  {
   "cell_type": "code",
   "execution_count": null,
   "id": "a04f9051",
   "metadata": {},
   "outputs": [],
   "source": []
  }
 ],
 "metadata": {
  "kernelspec": {
   "display_name": "Python [conda env:test3.7]",
   "language": "python",
   "name": "conda-env-test3.7-py"
  },
  "language_info": {
   "codemirror_mode": {
    "name": "ipython",
    "version": 3
   },
   "file_extension": ".py",
   "mimetype": "text/x-python",
   "name": "python",
   "nbconvert_exporter": "python",
   "pygments_lexer": "ipython3",
   "version": "3.7.10"
  }
 },
 "nbformat": 4,
 "nbformat_minor": 5
}
