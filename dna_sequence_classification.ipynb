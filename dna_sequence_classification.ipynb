{
 "cells": [
  {
   "cell_type": "markdown",
   "id": "2791b581",
   "metadata": {},
   "source": [
    "# DNA Sequence Classification\n",
    "\n",
    "DNA sequences can be classified in different ways. This demo shows how to build a system with Milvus 2.0 and postgres to determine gene families for DNA sequences and compare similarity between different organisms. It uses k-mer and CountVectorizer to extract features and get embeddings for dna sequences.\n",
    "\n",
    "## Data\n",
    "\n",
    "Sample data is downloaded from [Kaggle](https://www.kaggle.com/nageshsingh/dna-sequence-dataset?select=human.txt). This demo uses 6882 DNA sequences for 3 organisms: human (4380), chimpanzee (1682), dog (820), each of which has lines of DNA sequences with corresponding classes in a text file.\n",
    "\n",
    "     - data:\n",
    "        - human_data.txt\n",
    "        - chimp_data.txt\n",
    "        - dog_data.txt\n",
    "\n",
    "Each text file consists of a head line and lines of sequence (a sequence consisting of bases [A, C, G, T]) with its class (an integer from 0 to 6). Sample:\n",
    "                       \n",
    "     sequence class\n",
    "     GCTGCTGCCCCAGCACCAGGTGTCCGCGTACTGA\t6\n",
    "     CACCGGCCCTCCAGGGTCCAGCTGGTGCCCCAGGACACCATGACCAGCAGGGCCTAA\t0\n",
    "\n",
    "Our DNA sequences are classified into different gene families by class. A gene family is a group of related genes sharing a common ancestor. Members of one gene family may be paralogs or orthologs: gene with similar sequences from same or different species. See explanations for 7 classes in our dataset: [Kaggle](https://www.kaggle.com/nageshsingh/demystify-dna-sequencing-with-machine-learning)\n",
    "\n",
    "| Gene family | Class label |\n",
    "|:---|---|\n",
    "| G protein coupled receptors | 0 |\n",
    "| Tyrosine kinase | 1 |\n",
    "| Tyrosine phosphatase | 2 |\n",
    "| Synthetase | 3 |\n",
    "| Synthase | 4 |\n",
    "| Ion channel | 5 |\n",
    "| Transcription | 6 |\n",
    "     \n",
    "\n",
    "## Requirements\n",
    "\n",
    "We will run codes with python3 and start [Milvus2.0 (Standalone)](https://milvus.io/docs/v2.0.0/install_standalone-docker.md) & postgres with [docker](https://docs.docker.com/get-docker/). Required python modules are listed in `requirements.txt` to install."
   ]
  },
  {
   "cell_type": "markdown",
   "id": "5acd878c",
   "metadata": {},
   "source": [
    "|    Packages    |     Servers    |\n",
    "| --------------- | -------------- |\n",
    "| pymilvus-orm==2.0.0rc1 | milvus-2.0.0-rc1 |\n",
    "|    sklearn    |    mysql    |\n",
    "|   pymysql   |\n",
    "|     numpy   |\n",
    "| pickle-mixin |"
   ]
  },
  {
   "cell_type": "markdown",
   "id": "0134592f",
   "metadata": {},
   "source": [
    "## Up and Running\n",
    "\n",
    "### Install Packages\n",
    "\n",
    "Install the required python packages with requirements.txt."
   ]
  },
  {
   "cell_type": "code",
   "execution_count": 1,
   "id": "eab3ff3d",
   "metadata": {},
   "outputs": [
    {
     "name": "stdout",
     "output_type": "stream",
     "text": [
      "Collecting pymilvus-orm==2.0.0rc1\n",
      "  Using cached pymilvus_orm-2.0.0rc1-py3-none-any.whl (35 kB)\n",
      "Collecting sklearn\n",
      "  Using cached sklearn-0.0-py2.py3-none-any.whl\n",
      "Collecting pymysql\n",
      "  Using cached PyMySQL-1.0.2-py3-none-any.whl (43 kB)\n",
      "Collecting numpy\n",
      "  Downloading numpy-1.21.1-cp37-cp37m-macosx_10_9_x86_64.whl (16.9 MB)\n",
      "\u001b[K     |████████████████████████████████| 16.9 MB 7.6 MB/s eta 0:00:01    |██████████                      | 5.3 MB 4.5 MB/s eta 0:00:03\n",
      "\u001b[?25hCollecting pickle-mixin\n",
      "  Using cached pickle_mixin-1.0.2-py3-none-any.whl\n",
      "Collecting fastapi\n",
      "  Using cached fastapi-0.67.0-py3-none-any.whl (51 kB)\n",
      "Collecting pandas==1.2.4\n",
      "  Using cached pandas-1.2.4-cp37-cp37m-macosx_10_9_x86_64.whl (10.4 MB)\n",
      "Collecting pymilvus==2.0.0rc1\n",
      "  Using cached pymilvus-2.0.0rc1-py3-none-any.whl (70 kB)\n",
      "Collecting pytz>=2017.3\n",
      "  Using cached pytz-2021.1-py2.py3-none-any.whl (510 kB)\n",
      "Requirement already satisfied: python-dateutil>=2.7.3 in /Users/mengjiagu/opt/anaconda3/envs/test3.7/lib/python3.7/site-packages (from pandas==1.2.4->pymilvus-orm==2.0.0rc1->-r requirements.txt (line 1)) (2.8.1)\n",
      "Collecting mmh3\n",
      "  Using cached mmh3-3.0.0-cp37-cp37m-macosx_10_9_x86_64.whl (12 kB)\n",
      "Collecting requests>=2.22.0\n",
      "  Using cached requests-2.26.0-py2.py3-none-any.whl (62 kB)\n",
      "Collecting grpcio<1.38.0,>=1.22.0\n",
      "  Using cached grpcio-1.37.1-cp37-cp37m-macosx_10_10_x86_64.whl (3.9 MB)\n",
      "Collecting grpcio-tools<1.38.0,>=1.22.0\n",
      "  Using cached grpcio_tools-1.37.1-cp37-cp37m-macosx_10_10_x86_64.whl (2.0 MB)\n",
      "Collecting ujson>=2.0.0\n",
      "  Using cached ujson-4.0.2-cp37-cp37m-macosx_10_14_x86_64.whl (45 kB)\n",
      "Requirement already satisfied: six>=1.5.2 in /Users/mengjiagu/opt/anaconda3/envs/test3.7/lib/python3.7/site-packages (from grpcio<1.38.0,>=1.22.0->pymilvus==2.0.0rc1->pymilvus-orm==2.0.0rc1->-r requirements.txt (line 1)) (1.15.0)\n",
      "Requirement already satisfied: setuptools in /Users/mengjiagu/opt/anaconda3/envs/test3.7/lib/python3.7/site-packages (from grpcio-tools<1.38.0,>=1.22.0->pymilvus==2.0.0rc1->pymilvus-orm==2.0.0rc1->-r requirements.txt (line 1)) (52.0.0.post20210125)\n",
      "Collecting protobuf<4.0dev,>=3.5.0.post1\n",
      "  Using cached protobuf-3.17.3-cp37-cp37m-macosx_10_9_x86_64.whl (1.0 MB)\n",
      "Collecting idna<4,>=2.5\n",
      "  Using cached idna-3.2-py3-none-any.whl (59 kB)\n",
      "Requirement already satisfied: certifi>=2017.4.17 in /Users/mengjiagu/opt/anaconda3/envs/test3.7/lib/python3.7/site-packages (from requests>=2.22.0->pymilvus==2.0.0rc1->pymilvus-orm==2.0.0rc1->-r requirements.txt (line 1)) (2020.6.20)\n",
      "Collecting urllib3<1.27,>=1.21.1\n",
      "  Using cached urllib3-1.26.6-py2.py3-none-any.whl (138 kB)\n",
      "Collecting charset-normalizer~=2.0.0\n",
      "  Downloading charset_normalizer-2.0.3-py3-none-any.whl (35 kB)\n",
      "Collecting scikit-learn\n",
      "  Using cached scikit_learn-0.24.2-cp37-cp37m-macosx_10_13_x86_64.whl (7.2 MB)\n",
      "Collecting starlette==0.14.2\n",
      "  Using cached starlette-0.14.2-py3-none-any.whl (60 kB)\n",
      "Collecting pydantic!=1.7,!=1.7.1,!=1.7.2,!=1.7.3,!=1.8,!=1.8.1,<2.0.0,>=1.6.2\n",
      "  Using cached pydantic-1.8.2-cp37-cp37m-macosx_10_9_x86_64.whl (2.6 MB)\n",
      "Collecting typing-extensions>=3.7.4.3\n",
      "  Using cached typing_extensions-3.10.0.0-py3-none-any.whl (26 kB)\n",
      "Collecting joblib>=0.11\n",
      "  Using cached joblib-1.0.1-py3-none-any.whl (303 kB)\n",
      "Collecting scipy>=0.19.1\n",
      "  Using cached scipy-1.7.0-cp37-cp37m-macosx_10_9_x86_64.whl (31.9 MB)\n",
      "Collecting threadpoolctl>=2.0.0\n",
      "  Using cached threadpoolctl-2.2.0-py3-none-any.whl (12 kB)\n",
      "Installing collected packages: urllib3, protobuf, numpy, idna, grpcio, charset-normalizer, ujson, typing-extensions, threadpoolctl, scipy, requests, pytz, mmh3, joblib, grpcio-tools, starlette, scikit-learn, pymilvus, pydantic, pandas, sklearn, pymysql, pymilvus-orm, pickle-mixin, fastapi\n",
      "Successfully installed charset-normalizer-2.0.3 fastapi-0.67.0 grpcio-1.37.1 grpcio-tools-1.37.1 idna-3.2 joblib-1.0.1 mmh3-3.0.0 numpy-1.21.1 pandas-1.2.4 pickle-mixin-1.0.2 protobuf-3.17.3 pydantic-1.8.2 pymilvus-2.0.0rc1 pymilvus-orm-2.0.0rc1 pymysql-1.0.2 pytz-2021.1 requests-2.26.0 scikit-learn-0.24.2 scipy-1.7.0 sklearn-0.0 starlette-0.14.2 threadpoolctl-2.2.0 typing-extensions-3.10.0.0 ujson-4.0.2 urllib3-1.26.6\n"
     ]
    }
   ],
   "source": [
    "!pip install -r requirements.txt"
   ]
  },
  {
   "cell_type": "markdown",
   "id": "8f8c5cda",
   "metadata": {},
   "source": [
    "### Start Milvus\n",
    "\n",
    "Download and save docker-compose.standalone.yml as docker-compose.yml. Start Milvus2.0 with docker-compose."
   ]
  },
  {
   "cell_type": "code",
   "execution_count": 2,
   "id": "bf19cd94",
   "metadata": {},
   "outputs": [
    {
     "name": "stdout",
     "output_type": "stream",
     "text": [
      "--2021-07-22 19:08:52--  https://raw.githubusercontent.com/milvus-io/milvus/master/deployments/docker/standalone/docker-compose.yml\n",
      "Resolving raw.githubusercontent.com (raw.githubusercontent.com)... 185.199.108.133, 185.199.109.133, 185.199.110.133, ...\n",
      "Connecting to raw.githubusercontent.com (raw.githubusercontent.com)|185.199.108.133|:443... connected.\n",
      "HTTP request sent, awaiting response... 200 OK\n",
      "Length: 1543 (1.5K) [text/plain]\n",
      "Saving to: ‘docker-compose.yml’\n",
      "\n",
      "docker-compose.yml  100%[===================>]   1.51K  --.-KB/s    in 0s      \n",
      "\n",
      "2021-07-22 19:08:52 (6.57 MB/s) - ‘docker-compose.yml’ saved [1543/1543]\n",
      "\n",
      "Creating milvus-minio ... \n",
      "Creating milvus-etcd  ... \n",
      "\u001b[1Bting milvus-etcd  ... \u001b[32mdone\u001b[0m\u001b[1A\u001b[2KCreating milvus-standalone ... \n",
      "\u001b[1Bting milvus-standalone ... \u001b[32mdone\u001b[0m"
     ]
    }
   ],
   "source": [
    "!wget https://raw.githubusercontent.com/milvus-io/milvus/master/deployments/docker/standalone/docker-compose.yml -O docker-compose.yml\n",
    "!docker-compose up -d"
   ]
  },
  {
   "cell_type": "markdown",
   "id": "3d11edf9",
   "metadata": {},
   "source": [
    "### Start Mysql\n",
    "\n",
    "Milvus2.0 does not suppport string for now. Start mysql as docker container to store and recall non-vector attributes of DNA sequences (eg. id, label/class)."
   ]
  },
  {
   "cell_type": "code",
   "execution_count": 3,
   "id": "6e9b030e",
   "metadata": {},
   "outputs": [
    {
     "name": "stdout",
     "output_type": "stream",
     "text": [
      "aab0d839d6b0731dcb404a8fb7aae50d7a9024cd5855ff3372bf975338149498\r\n"
     ]
    }
   ],
   "source": [
    "!docker run -p 3306:3306 -e MYSQL_ROOT_PASSWORD=123456 -d --name qa_mysql mysql:5.7"
   ]
  },
  {
   "cell_type": "markdown",
   "id": "9128fbfb",
   "metadata": {},
   "source": [
    "### Check Status"
   ]
  },
  {
   "cell_type": "code",
   "execution_count": 4,
   "id": "61716943",
   "metadata": {},
   "outputs": [
    {
     "name": "stdout",
     "output_type": "stream",
     "text": [
      "CONTAINER ID   IMAGE                                         COMMAND                  CREATED              STATUS                        PORTS                                                  NAMES\r\n",
      "aab0d839d6b0   mysql:5.7                                     \"docker-entrypoint.s…\"   52 seconds ago       Up 50 seconds                 0.0.0.0:3306->3306/tcp, :::3306->3306/tcp, 33060/tcp   qa_mysql\r\n",
      "975bc1c6db75   milvusdb/milvus:v2.0.0-rc2-20210712-a8e5fd2   \"/tini -- milvus run…\"   About a minute ago   Up About a minute             0.0.0.0:19530->19530/tcp, :::19530->19530/tcp          milvus-standalone\r\n",
      "93b6e9dca8b8   minio/minio:RELEASE.2020-12-03T00-03-10Z      \"/usr/bin/docker-ent…\"   About a minute ago   Up About a minute (healthy)   9000/tcp                                               milvus-minio\r\n",
      "258e67143086   quay.io/coreos/etcd:latest                    \"etcd -listen-peer-u…\"   About a minute ago   Up About a minute (healthy)   2379-2380/tcp                                          milvus-etcd\r\n"
     ]
    }
   ],
   "source": [
    "!docker ps"
   ]
  },
  {
   "cell_type": "markdown",
   "id": "bd40f465",
   "metadata": {},
   "source": [
    "## Code Overview\n",
    "\n",
    "### Connect to Servers\n",
    "\n",
    "Connect to servers with hosts & ports. In this case, the docker containers are running on localhost and the default ports."
   ]
  },
  {
   "cell_type": "code",
   "execution_count": 5,
   "id": "050822e2",
   "metadata": {},
   "outputs": [],
   "source": [
    "from pymilvus_orm import *\n",
    "import pymysql\n",
    "\n",
    "connections.connect(host='localhost', port='19530')\n",
    "conn = pymysql.connect(host='localhost', user='root', port=3306, password='123456', database='mysql',local_infile=True)\n",
    "cursor = conn.cursor()"
   ]
  },
  {
   "cell_type": "markdown",
   "id": "30d718d3",
   "metadata": {},
   "source": [
    "### Create Collection, Partitions, Index in Milvus\n",
    "\n",
    "#### 1. Create Collection\n",
    "\n",
    "Set collection name and dimension value. Create a collection with fields.\n",
    "- Collection name: dna_seq\n",
    "- Dimension: 768\n",
    "- Fields: pk (primary keys), embedding (dna sequence embeddings)"
   ]
  },
  {
   "cell_type": "code",
   "execution_count": 6,
   "id": "99dac31e",
   "metadata": {},
   "outputs": [
    {
     "name": "stdout",
     "output_type": "stream",
     "text": [
      "Collection is successfully created: dna_seq\n"
     ]
    }
   ],
   "source": [
    "import time\n",
    "\n",
    "time.sleep(.1)\n",
    "\n",
    "collection_name = \"dna_seq\"\n",
    "dim = 768\n",
    "\n",
    "# Drop the previously stored collection for a clear run\n",
    "if utility.has_collection(collection_name) == True:\n",
    "    collection = Collection(collection_name)\n",
    "    collection.drop()\n",
    "\n",
    "# Set fields & schema\n",
    "all_fields = [\n",
    "        schema.FieldSchema(name=\"pk\", dtype=DataType.INT64, is_primary=True),\n",
    "        schema.FieldSchema(name=\"embedding\", dtype=DataType.FLOAT_VECTOR, dim=dim)\n",
    "        #schema.FieldSchema(name=\"class\", dtype=DataType.STRING)\n",
    "        ]\n",
    "default_schema = schema.CollectionSchema(fields=all_fields, \n",
    "                                         description=\"DNA recognition: kmers & vectorizer\", \n",
    "                                         auto_id=False)\n",
    "\n",
    "# Create collection\n",
    "DNA_collection = Collection(name=collection_name, data=None, schema=default_schema)\n",
    "\n",
    "# Check if collection is successfully created\n",
    "if utility.has_collection(collection_name):\n",
    "    print(\n",
    "    \"Collection is successfully created: \" + collection_name)\n",
    "else:\n",
    "    raise Exception(\"Fail to create collection: \" + collection_name)"
   ]
  },
  {
   "cell_type": "markdown",
   "id": "5eb9b187",
   "metadata": {},
   "source": [
    "#### 2. Create Partitions\n",
    "\n",
    "Create 3 partitions with proper names: human, chimp, dog"
   ]
  },
  {
   "cell_type": "code",
   "execution_count": 7,
   "id": "c71e4e6f",
   "metadata": {},
   "outputs": [
    {
     "data": {
      "text/plain": [
       "[{\"name\": \"_default\", \"description\": \"\", \"num_entities\": 0},\n",
       " {\"name\": \"human\", \"description\": \"\", \"num_entities\": 0},\n",
       " {\"name\": \"chimp\", \"description\": \"\", \"num_entities\": 0},\n",
       " {\"name\": \"dog\", \"description\": \"\", \"num_entities\": 0}]"
      ]
     },
     "execution_count": 7,
     "metadata": {},
     "output_type": "execute_result"
    }
   ],
   "source": [
    "human_partition = DNA_collection.create_partition('human')\n",
    "chimp_partition = DNA_collection.create_partition('chimp')\n",
    "dog_partition = DNA_collection.create_partition('dog')\n",
    "\n",
    "DNA_collection.partitions"
   ]
  },
  {
   "cell_type": "markdown",
   "id": "f678dddc",
   "metadata": {},
   "source": [
    "#### 3. Set Index\n",
    "\n",
    "Set index parameters after collection is created. Here index type is IVF_SQ8 and metric type is Inner Product."
   ]
  },
  {
   "cell_type": "code",
   "execution_count": 8,
   "id": "e0280182",
   "metadata": {},
   "outputs": [
    {
     "name": "stdout",
     "output_type": "stream",
     "text": [
      "Index is successfully set for collection dna_seq\n"
     ]
    }
   ],
   "source": [
    "index_params = {\n",
    "    'index_type': 'IVF_SQ8',\n",
    "    'params': {'nlist': 512},\n",
    "    'metric_type': 'IP'\n",
    "    }\n",
    "\n",
    "DNA_collection.create_index(field_name=\"embedding\", index_params=index_params)\n",
    "\n",
    "# Check if index is successfully set\n",
    "if DNA_collection.has_index():\n",
    "    print(\"Index is successfully set for collection \" + collection_name)\n",
    "else:\n",
    "    raise Exception(\"Fail to set index for collection \" + collection_name)"
   ]
  },
  {
   "cell_type": "markdown",
   "id": "a32fed43",
   "metadata": {},
   "source": [
    "### Create Table in Mysql\n",
    "\n",
    "Create a table with collection name in mySQL to store milvus ids (i.e. field \"pk\") and corresponding labels."
   ]
  },
  {
   "cell_type": "code",
   "execution_count": 9,
   "id": "4dbc3a1d",
   "metadata": {},
   "outputs": [
    {
     "name": "stdout",
     "output_type": "stream",
     "text": [
      "create MySQL table successfully!\n"
     ]
    }
   ],
   "source": [
    "# Delete previously stored table for a clean run\n",
    "drop_table = \"DROP TABLE IF EXISTS \" + collection_name + \";\"\n",
    "cursor.execute(drop_table)\n",
    "\n",
    "try:\n",
    "    sql = \"CREATE TABLE if not exists \" + collection_name + \" (pk TEXT, label TEXT);\"\n",
    "    cursor.execute(sql)\n",
    "    print(\"create MySQL table successfully!\")\n",
    "except Exception as e:\n",
    "    print(\"can't create a MySQL table: \", e)"
   ]
  },
  {
   "cell_type": "markdown",
   "id": "10b04c32",
   "metadata": {},
   "source": [
    "### Process & Store Datasets\n",
    "\n",
    "#### 1. Get Data\n",
    "\n",
    "Read data from text files as dataframes. Rebuild data and replace original columns with:\n",
    "- sequence --> subsequences by [k-mer](https://en.wikipedia.org/wiki/K-mer#:~:text=Usually%2C%20the%20term%20k%2Dmer,total%20possible%20k%2Dmers%2C%20where) (k=5)\n",
    "- class --> label declaring organism & class (e.g. human: 0)"
   ]
  },
  {
   "cell_type": "code",
   "execution_count": 10,
   "id": "6be95f2b",
   "metadata": {},
   "outputs": [
    {
     "name": "stdout",
     "output_type": "stream",
     "text": [
      "                                            sequence     label  \\\n",
      "0  ATGCCCCAACTAAATACTACCGTATGGCCCACCATAATTACCCCCA...  human: 4   \n",
      "1  ATGAACGAAAATCTGTTCGCTTCATTCATTGCCCCCACAATCCTAG...  human: 4   \n",
      "2  ATGTGTGGCATTTGGGCGCTGTTTGGCAGTGATGATTGCCTTTCTG...  human: 3   \n",
      "3  ATGTGTGGCATTTGGGCGCTGTTTGGCAGTGATGATTGCCTTTCTG...  human: 3   \n",
      "4  ATGCAACAGCATTTTGAATTTGAATACCAGACCAAAGTGGATGGTG...  human: 3   \n",
      "\n",
      "                                               kmers  \n",
      "0  [ATGC, TGCC, GCCC, CCCC, CCCA, CCAA, CAAC, AAC...  \n",
      "1  [ATGA, TGAA, GAAC, AACG, ACGA, CGAA, GAAA, AAA...  \n",
      "2  [ATGT, TGTG, GTGT, TGTG, GTGG, TGGC, GGCA, GCA...  \n",
      "3  [ATGT, TGTG, GTGT, TGTG, GTGG, TGGC, GGCA, GCA...  \n",
      "4  [ATGC, TGCA, GCAA, CAAC, AACA, ACAG, CAGC, AGC...  \n"
     ]
    }
   ],
   "source": [
    "import numpy as np\n",
    "import pandas as pd\n",
    "\n",
    "# Function to get k-mers for sequence s\n",
    "def build_kmers(s, k):\n",
    "    kmers = []\n",
    "    n = len(s) - k + 1\n",
    "\n",
    "    for i in range(n):\n",
    "        kmer = s[i : i+k].upper()\n",
    "        kmers.append(kmer)\n",
    "\n",
    "    return kmers\n",
    "\n",
    "# Function to replace sequence column with kmers in df\n",
    "def seq_to_kmers(df):\n",
    "    df['kmers'] = df.apply(lambda x: build_kmers(x['sequence'], 4), axis =1)\n",
    "    df = df.drop(['sequence'],axis=1)\n",
    "\n",
    "\n",
    "# Read files\n",
    "human = pd.read_table('./data/human_data.txt')\n",
    "chimp = pd.read_table('./data/chimp_data.txt')\n",
    "dog = pd.read_table('./data/dog_data.txt')\n",
    "\n",
    "# Replace classes with labels (organism: class)\n",
    "human['label']=['human: ' + str(x) for x in human['class']]\n",
    "human = human.drop(['class'], axis=1)\n",
    "chimp['label']=['chimp: ' + str(x) for x in chimp['class']]\n",
    "chimp = chimp.drop(['class'], axis=1)\n",
    "dog['label']=['dog: ' + str(x) for x in dog['class']]\n",
    "dog = dog.drop(['class'], axis=1)\n",
    "\n",
    "seq_to_kmers(human)\n",
    "seq_to_kmers(chimp)\n",
    "seq_to_kmers(dog)\n",
    "\n",
    "# Combine all dataframes\n",
    "#df = human.append(chimp).append(dog)\n",
    "#df = df.sample(frac=1,random_state=1)\n",
    "#seq_to_kmers(df)\n",
    "\n",
    "print(human.head())\n",
    "#print(chimp.head())\n",
    "#print(dog.head())"
   ]
  },
  {
   "cell_type": "markdown",
   "id": "a3ecdfa4",
   "metadata": {},
   "source": [
    "Get lists of texts for DNA sequences in k-mers & labels. Split 20 human data to test search performance."
   ]
  },
  {
   "cell_type": "code",
   "execution_count": 11,
   "id": "14f3aba4",
   "metadata": {},
   "outputs": [
    {
     "name": "stdout",
     "output_type": "stream",
     "text": [
      "train row count: 6101\n",
      "human(3609) chimp(1675) dog(817)\n",
      "test row count: 20\n"
     ]
    }
   ],
   "source": [
    "# Get lists of sequences in k-mers and labels in text from dataframe\n",
    "def mydata(df):\n",
    "    texts = []\n",
    "    labels = []\n",
    "    words = list(df['kmers']) # list of all sequences in kmers\n",
    "\n",
    "    for i in range(len(words)):\n",
    "        texts.append(' '.join(words[i])) \n",
    "    \n",
    "    for x in df['label']:\n",
    "        labels.append(x)\n",
    "\n",
    "    if len(texts)!=len(labels):\n",
    "        raise Exception(\"Texts & labels length are not equal!\")\n",
    "        \n",
    "    return (texts, labels)\n",
    "    \n",
    "human_texts, human_labels = mydata(human)\n",
    "chimp_texts, chimp_labels = mydata(chimp)\n",
    "dog_texts, dog_labels = mydata(dog)\n",
    "\n",
    "# Split human data to test search performance\n",
    "test_texts = human_texts[-20:]\n",
    "actual_labels = human_labels[-20:]\n",
    "human_texts = human_texts[:-20]\n",
    "human_labels = human_labels[:-20]\n",
    "\n",
    "train_texts = human_texts + chimp_texts + dog_texts\n",
    "train_labels = human_labels + chimp_labels + dog_labels\n",
    "\n",
    "print(\"train row count:\", len(train_texts))\n",
    "print(\"human({})\".format(str(len(human_texts)))\n",
    "      +\" chimp({})\".format(str(len(chimp_texts)))\n",
    "      +\" dog({})\".format(str(len(dog_texts))))\n",
    "print(\"test row count:\", len(test_texts))"
   ]
  },
  {
   "cell_type": "markdown",
   "id": "8ee3c37d",
   "metadata": {},
   "source": [
    "#### 2. Generate Embeddings\n",
    "\n",
    "Extract features for DNA sequences (after k-mers) by `CountVectorizer` with previously declared dimension. Normalize output by `sklearn.preprocessing` to get final embeddings."
   ]
  },
  {
   "cell_type": "code",
   "execution_count": 12,
   "id": "c75165f3",
   "metadata": {},
   "outputs": [],
   "source": [
    "from sklearn.feature_extraction.text import CountVectorizer\n",
    "from sklearn import preprocessing\n",
    "\n",
    "# Transform sequences in kmers to vectors\n",
    "def char_to_vec(v_model, text):\n",
    "    V = v_model.transform(text).toarray()\n",
    "    #features = vectorizer.get_feature_names()\n",
    "    embeddings = preprocessing.normalize(V)\n",
    "    return embeddings\n",
    "\n",
    "# Train vectorizer model \n",
    "vectorizer = CountVectorizer(ngram_range=(4,4), max_features=dim)\n",
    "X = vectorizer.fit_transform(train_texts).toarray()\n",
    "train_emb = list(preprocessing.normalize(X))\n",
    "# print(vectorizer.get_feature_names())\n",
    "\n",
    "human_emb = train_emb[:len(human_texts)]\n",
    "chimp_emb = train_emb[len(human_texts):(len(human_texts)+len(chimp_texts))]\n",
    "dog_emb = train_emb[(len(human_texts)+len(chimp_texts)):len(train_texts)]"
   ]
  },
  {
   "cell_type": "markdown",
   "id": "8846ba6c",
   "metadata": {},
   "source": [
    "#### 3. Insert data\n",
    "\n",
    "##### Insert to Milvus\n",
    "\n",
    "Insert all embeddings to corresponding partitions with proper primary keys. Don't insert if there exists previous data in collection."
   ]
  },
  {
   "cell_type": "code",
   "execution_count": 13,
   "id": "86c223ba",
   "metadata": {},
   "outputs": [
    {
     "name": "stdout",
     "output_type": "stream",
     "text": [
      "[{\"name\": \"_default\", \"description\": \"\", \"num_entities\": 0}, {\"name\": \"human\", \"description\": \"\", \"num_entities\": 3609}, {\"name\": \"chimp\", \"description\": \"\", \"num_entities\": 1675}, {\"name\": \"dog\", \"description\": \"\", \"num_entities\": 817}]\n"
     ]
    }
   ],
   "source": [
    "human_pk = [x for x in range(len(human_emb))]\n",
    "chimp_pk = [x for x in range(len(human_emb), len(human_emb)+len(chimp_emb))]\n",
    "dog_pk = [x for x in range(len(human_emb)+len(chimp_emb), len(train_emb))]\n",
    "\n",
    "if DNA_collection.num_entities == 0:\n",
    "    DNA_human = DNA_collection.insert([human_pk, human_emb], partition_name='human')\n",
    "    DNA_chimp = DNA_collection.insert([chimp_pk, chimp_emb], partition_name='chimp')\n",
    "    DNA_dog = DNA_collection.insert([dog_pk, dog_emb], partition_name='dog')\n",
    "\n",
    "    if DNA_collection.is_empty:\n",
    "        print(\"Insert collection failed.\")\n",
    "    else:\n",
    "        print(DNA_collection.partitions)\n",
    "else:\n",
    "    print(\"Previous data in this collection!\")"
   ]
  },
  {
   "cell_type": "markdown",
   "id": "e2b0585e",
   "metadata": {},
   "source": [
    "##### Insert to Mysql\n",
    "\n",
    "Insert primary keys in Milvus and corresponding labels into Mysql."
   ]
  },
  {
   "cell_type": "code",
   "execution_count": 14,
   "id": "0e62f571",
   "metadata": {},
   "outputs": [
    {
     "name": "stdout",
     "output_type": "stream",
     "text": [
      "MYSQL loads data to table: dna_seq successfully\n"
     ]
    }
   ],
   "source": [
    "import os \n",
    "\n",
    "# Combine pk and label into a list\n",
    "def format_data(pk, label):\n",
    "    data = []\n",
    "    for i in range(len(pk)):\n",
    "        value = (str(pk[i]), label[i])\n",
    "        data.append(value)\n",
    "    return data\n",
    "\n",
    "def load_data_to_mysql(cursor, conn, table_name, data):\n",
    "    sql = \"insert into \" + table_name + \" (pk,label) values (%s,%s);\"\n",
    "    try:\n",
    "        cursor.executemany(sql, data)\n",
    "        conn.commit()\n",
    "        print(\"MYSQL loads data to table: {} successfully\".format(table_name))\n",
    "    except Exception as e:\n",
    "        print(\"MYSQL ERROR: {} with sql: {}\".format(e, sql))\n",
    "\n",
    "all_pk = human_pk + chimp_pk + dog_pk\n",
    "load_data_to_mysql(cursor, conn, collection_name, format_data(all_pk, train_labels))"
   ]
  },
  {
   "cell_type": "markdown",
   "id": "f7f1cea5",
   "metadata": {},
   "source": [
    "### Search\n",
    "\n",
    "Load collection. Set search parameters with Inner Product as metric_type and nprobe of 20."
   ]
  },
  {
   "cell_type": "code",
   "execution_count": 15,
   "id": "086c7e21",
   "metadata": {},
   "outputs": [],
   "source": [
    "DNA_collection.load()\n",
    "search_params = {\"metric_type\": \"IP\", \"params\": {\"nprobe\": 20}}"
   ]
  },
  {
   "cell_type": "markdown",
   "id": "c5d460f2",
   "metadata": {},
   "source": [
    "#### 1. Classify DNA Sequences\n",
    "\n",
    "The aim is to classify 20 human DNA sequences with labels. Inputs are pre-processed subsequences in text by k-mers (k=4)."
   ]
  },
  {
   "cell_type": "code",
   "execution_count": 16,
   "id": "95512ddc",
   "metadata": {},
   "outputs": [
    {
     "data": {
      "text/html": [
       "<div>\n",
       "<style scoped>\n",
       "    .dataframe tbody tr th:only-of-type {\n",
       "        vertical-align: middle;\n",
       "    }\n",
       "\n",
       "    .dataframe tbody tr th {\n",
       "        vertical-align: top;\n",
       "    }\n",
       "\n",
       "    .dataframe thead th {\n",
       "        text-align: right;\n",
       "    }\n",
       "</style>\n",
       "<table border=\"1\" class=\"dataframe\">\n",
       "  <thead>\n",
       "    <tr style=\"text-align: right;\">\n",
       "      <th></th>\n",
       "      <th>0</th>\n",
       "    </tr>\n",
       "  </thead>\n",
       "  <tbody>\n",
       "    <tr>\n",
       "      <th>0</th>\n",
       "      <td>ATGC TGCC GCCT CCTG CTGA TGAG GAGC AGCT GCTG C...</td>\n",
       "    </tr>\n",
       "    <tr>\n",
       "      <th>1</th>\n",
       "      <td>ATGC TGCC GCCT CCTG CTGA TGAG GAGC AGCT GCTG C...</td>\n",
       "    </tr>\n",
       "    <tr>\n",
       "      <th>2</th>\n",
       "      <td>ATGG TGGG GGGG GGGC GGCT GCTC CTCT TCTT CTTT T...</td>\n",
       "    </tr>\n",
       "    <tr>\n",
       "      <th>3</th>\n",
       "      <td>ATGG TGGC GGCT GCTC CTCG TCGG CGGG GGGG GGGC G...</td>\n",
       "    </tr>\n",
       "    <tr>\n",
       "      <th>4</th>\n",
       "      <td>ATGC TGCT GCTG CTGA TGAG GAGC AGCA GCAC CACT A...</td>\n",
       "    </tr>\n",
       "  </tbody>\n",
       "</table>\n",
       "</div>"
      ],
      "text/plain": [
       "                                                   0\n",
       "0  ATGC TGCC GCCT CCTG CTGA TGAG GAGC AGCT GCTG C...\n",
       "1  ATGC TGCC GCCT CCTG CTGA TGAG GAGC AGCT GCTG C...\n",
       "2  ATGG TGGG GGGG GGGC GGCT GCTC CTCT TCTT CTTT T...\n",
       "3  ATGG TGGC GGCT GCTC CTCG TCGG CGGG GGGG GGGC G...\n",
       "4  ATGC TGCT GCTG CTGA TGAG GAGC AGCA GCAC CACT A..."
      ]
     },
     "execution_count": 16,
     "metadata": {},
     "output_type": "execute_result"
    }
   ],
   "source": [
    "pd.DataFrame(test_texts).head(5)"
   ]
  },
  {
   "cell_type": "markdown",
   "id": "91054c48",
   "metadata": {},
   "source": [
    "Transform each input to vector with pre-trained vectorizer model."
   ]
  },
  {
   "cell_type": "code",
   "execution_count": 17,
   "id": "307498e3",
   "metadata": {},
   "outputs": [],
   "source": [
    "def get_vector(text, vectorizer):\n",
    "    x = vectorizer.transform(text).toarray()\n",
    "    return list(preprocessing.normalize(x))\n",
    "\n",
    "test_emb = get_vector(test_texts, vectorizer)"
   ]
  },
  {
   "cell_type": "markdown",
   "id": "7c4493df",
   "metadata": {},
   "source": [
    "Search for top 10 results in human partition for each input vector"
   ]
  },
  {
   "cell_type": "code",
   "execution_count": 18,
   "id": "2a57e056",
   "metadata": {},
   "outputs": [
    {
     "name": "stdout",
     "output_type": "stream",
     "text": [
      "\n",
      "Search...\n",
      "search latency = 0.0826s\n"
     ]
    }
   ],
   "source": [
    "start_time = time.time()\n",
    "print(f\"\\nSearch...\")\n",
    "# define output_fields of search result\n",
    "res = DNA_collection.search(test_emb, \"embedding\", search_params,\n",
    "                                    limit=10, partition_names=['human'])\n",
    "end_time = time.time()\n",
    "print(\"search latency = %.4fs\" % (end_time - start_time))"
   ]
  },
  {
   "cell_type": "markdown",
   "id": "9f0e9773",
   "metadata": {},
   "source": [
    "Display search result (recall labels from mysql by result ids)"
   ]
  },
  {
   "cell_type": "code",
   "execution_count": 19,
   "id": "4adce68e",
   "metadata": {},
   "outputs": [
    {
     "name": "stdout",
     "output_type": "stream",
     "text": [
      "\n",
      "Search for 'human: 4'\n",
      "[label] distance\n",
      "['human: 4'] 0.8637627363204956\n",
      "['human: 4'] 0.4159197509288788\n",
      "['human: 4'] 0.40932655334472656\n",
      "['human: 4'] 0.40036603808403015\n",
      "['human: 4'] 0.2885541021823883\n",
      "['human: 3'] 0.2876169979572296\n",
      "['human: 4'] 0.28760045766830444\n",
      "['human: 3'] 0.28541314601898193\n",
      "['human: 6'] 0.2794119715690613\n",
      "['human: 4'] 0.27723580598831177\n",
      "\n",
      "Search for 'human: 4'\n",
      "[label] distance\n",
      "['human: 4'] 0.923426628112793\n",
      "['human: 4'] 0.4145869016647339\n",
      "['human: 4'] 0.40007877349853516\n",
      "['human: 4'] 0.3850637376308441\n",
      "['human: 3'] 0.2988739311695099\n",
      "['human: 3'] 0.2973443567752838\n",
      "['human: 4'] 0.29636549949645996\n",
      "['human: 4'] 0.2948707342147827\n",
      "['human: 4'] 0.276827335357666\n",
      "['human: 4'] 0.27626898884773254\n",
      "\n",
      "Search for 'human: 4'\n",
      "[label] distance\n",
      "['human: 1'] 0.24639256298542023\n",
      "['human: 1'] 0.20875783264636993\n",
      "['human: 1'] 0.20221619307994843\n",
      "['human: 3'] 0.19118836522102356\n",
      "['human: 6'] 0.18973305821418762\n",
      "['human: 6'] 0.18580782413482666\n",
      "['human: 0'] 0.18477889895439148\n",
      "['human: 5'] 0.17804965376853943\n",
      "['human: 0'] 0.17525917291641235\n",
      "['human: 4'] 0.17320440709590912\n",
      "\n",
      "Search for 'human: 0'\n",
      "[label] distance\n",
      "['human: 5'] 0.5334089994430542\n",
      "['human: 0'] 0.4957650899887085\n",
      "['human: 0'] 0.4804993271827698\n",
      "['human: 5'] 0.4693838953971863\n",
      "['human: 0'] 0.4683232307434082\n",
      "['human: 5'] 0.46831682324409485\n",
      "['human: 0'] 0.463528573513031\n",
      "['human: 0'] 0.4622846245765686\n",
      "['human: 1'] 0.4618350863456726\n",
      "['human: 5'] 0.45914894342422485\n",
      "\n",
      "Search for 'human: 0'\n",
      "[label] distance\n",
      "['human: 5'] 0.46688538789749146\n",
      "['human: 0'] 0.434227854013443\n",
      "['human: 0'] 0.4233117699623108\n",
      "['human: 1'] 0.4206075072288513\n",
      "['human: 0'] 0.4166511297225952\n",
      "['human: 0'] 0.41010087728500366\n",
      "['human: 5'] 0.40135371685028076\n",
      "['human: 5'] 0.39993616938591003\n",
      "['human: 5'] 0.398945152759552\n",
      "['human: 5'] 0.39496031403541565\n",
      "\n",
      "Search for 'human: 0'\n",
      "[label] distance\n",
      "['human: 5'] 0.4693126082420349\n",
      "['human: 0'] 0.42394521832466125\n",
      "['human: 1'] 0.41530099511146545\n",
      "['human: 0'] 0.41515207290649414\n",
      "['human: 0'] 0.4063042402267456\n",
      "['human: 0'] 0.40073516964912415\n",
      "['human: 5'] 0.39411962032318115\n",
      "['human: 1'] 0.39249664545059204\n",
      "['human: 5'] 0.39032983779907227\n",
      "['human: 5'] 0.38821542263031006\n",
      "\n",
      "Search for 'human: 0'\n",
      "[label] distance\n",
      "['human: 5'] 0.3926897644996643\n",
      "['human: 5'] 0.3850984275341034\n",
      "['human: 0'] 0.378508597612381\n",
      "['human: 0'] 0.37250736355781555\n",
      "['human: 0'] 0.3703547418117523\n",
      "['human: 5'] 0.36760640144348145\n",
      "['human: 5'] 0.3657851815223694\n",
      "['human: 0'] 0.35976168513298035\n",
      "['human: 1'] 0.358933687210083\n",
      "['human: 0'] 0.3574906885623932\n",
      "\n",
      "Search for 'human: 4'\n",
      "[label] distance\n",
      "['human: 0'] 0.492500364780426\n",
      "['human: 0'] 0.4905441403388977\n",
      "['human: 4'] 0.4839957654476166\n",
      "['human: 5'] 0.4837443232536316\n",
      "['human: 4'] 0.4823385775089264\n",
      "['human: 4'] 0.4821653366088867\n",
      "['human: 6'] 0.47961974143981934\n",
      "['human: 0'] 0.47906744480133057\n",
      "['human: 6'] 0.4655357003211975\n",
      "['human: 0'] 0.4631727635860443\n",
      "\n",
      "Search for 'human: 4'\n",
      "[label] distance\n",
      "['human: 0'] 0.49790212512016296\n",
      "['human: 0'] 0.4976605772972107\n",
      "['human: 6'] 0.4912794232368469\n",
      "['human: 0'] 0.488203227519989\n",
      "['human: 4'] 0.4815557599067688\n",
      "['human: 5'] 0.481204628944397\n",
      "['human: 4'] 0.48014312982559204\n",
      "['human: 4'] 0.47977137565612793\n",
      "['human: 6'] 0.474310964345932\n",
      "['human: 0'] 0.4679718315601349\n",
      "\n",
      "Search for 'human: 4'\n",
      "[label] distance\n",
      "['human: 5'] 0.4199798107147217\n",
      "['human: 0'] 0.3872954547405243\n",
      "['human: 0'] 0.37898993492126465\n",
      "['human: 0'] 0.377588152885437\n",
      "['human: 5'] 0.370832234621048\n",
      "['human: 0'] 0.36353933811187744\n",
      "['human: 0'] 0.36067503690719604\n",
      "['human: 1'] 0.35956791043281555\n",
      "['human: 1'] 0.3550672233104706\n",
      "['human: 0'] 0.3549603819847107\n",
      "\n",
      "Search for 'human: 4'\n",
      "[label] distance\n",
      "['human: 5'] 0.3879076838493347\n",
      "['human: 0'] 0.3593178689479828\n",
      "['human: 0'] 0.3518329858779907\n",
      "['human: 4'] 0.3505523204803467\n",
      "['human: 4'] 0.34637755155563354\n",
      "['human: 4'] 0.3446907699108124\n",
      "['human: 5'] 0.3442532420158386\n",
      "['human: 5'] 0.3360499143600464\n",
      "['human: 4'] 0.333799809217453\n",
      "['human: 1'] 0.3335486948490143\n",
      "\n",
      "Search for 'human: 4'\n",
      "[label] distance\n",
      "['human: 6'] 0.5621498823165894\n",
      "['human: 0'] 0.5531854629516602\n",
      "['human: 6'] 0.5122098922729492\n",
      "['human: 6'] 0.5121378898620605\n",
      "['human: 6'] 0.5085920095443726\n",
      "['human: 0'] 0.5035856366157532\n",
      "['human: 0'] 0.499252051115036\n",
      "['human: 0'] 0.4912041425704956\n",
      "['human: 0'] 0.49094992876052856\n",
      "['human: 4'] 0.49044761061668396\n",
      "\n",
      "Search for 'human: 6'\n",
      "[label] distance\n",
      "['human: 6'] 0.647835373878479\n",
      "['human: 6'] 0.6451934576034546\n",
      "['human: 6'] 0.6432088017463684\n",
      "['human: 6'] 0.642856776714325\n",
      "['human: 6'] 0.6402387619018555\n",
      "['human: 6'] 0.6387951374053955\n",
      "['human: 6'] 0.6359463930130005\n",
      "['human: 6'] 0.6338424682617188\n",
      "['human: 6'] 0.6309154033660889\n",
      "['human: 6'] 0.6246699690818787\n",
      "\n",
      "Search for 'human: 6'\n",
      "[label] distance\n",
      "['human: 2'] 0.29859399795532227\n",
      "['human: 2'] 0.2985478639602661\n",
      "['human: 6'] 0.22373613715171814\n",
      "['human: 6'] 0.2179046869277954\n",
      "['human: 6'] 0.21654725074768066\n",
      "['human: 0'] 0.20002645254135132\n",
      "['human: 4'] 0.1933596432209015\n",
      "['human: 4'] 0.18886995315551758\n",
      "['human: 5'] 0.18479260802268982\n",
      "['human: 5'] 0.18380051851272583\n",
      "\n",
      "Search for 'human: 6'\n",
      "[label] distance\n",
      "['human: 6'] 0.6734433174133301\n",
      "['human: 6'] 0.6725289225578308\n",
      "['human: 6'] 0.6713805198669434\n",
      "['human: 6'] 0.671172022819519\n",
      "['human: 6'] 0.6694286465644836\n",
      "['human: 6'] 0.6672986745834351\n",
      "['human: 6'] 0.6456143260002136\n",
      "['human: 6'] 0.6401842832565308\n",
      "['human: 6'] 0.6355953812599182\n",
      "['human: 6'] 0.6313216090202332\n",
      "\n",
      "Search for 'human: 6'\n",
      "[label] distance\n",
      "['human: 6'] 0.665601372718811\n",
      "['human: 6'] 0.6553049087524414\n",
      "['human: 6'] 0.6546244025230408\n",
      "['human: 6'] 0.6530013084411621\n",
      "['human: 6'] 0.6514076590538025\n",
      "['human: 6'] 0.6492412090301514\n",
      "['human: 6'] 0.633689284324646\n",
      "['human: 6'] 0.6298009157180786\n",
      "['human: 6'] 0.6279360055923462\n",
      "['human: 6'] 0.6268443465232849\n",
      "\n",
      "Search for 'human: 5'\n",
      "[label] distance\n",
      "['human: 5'] 0.9971848130226135\n",
      "['human: 5'] 0.9961429834365845\n",
      "['human: 5'] 0.994997501373291\n",
      "['human: 5'] 0.9855140447616577\n",
      "['human: 5'] 0.9742806553840637\n",
      "['human: 5'] 0.6978260278701782\n",
      "['human: 6'] 0.6649049520492554\n",
      "['human: 5'] 0.6630519032478333\n",
      "['human: 5'] 0.6608039140701294\n",
      "['human: 5'] 0.6596255302429199\n",
      "\n",
      "Search for 'human: 5'\n",
      "[label] distance\n",
      "['human: 5'] 0.9974265098571777\n",
      "['human: 5'] 0.9962777495384216\n",
      "['human: 5'] 0.9958637952804565\n",
      "['human: 5'] 0.9867409467697144\n",
      "['human: 5'] 0.9759458303451538\n",
      "['human: 5'] 0.6985504627227783\n",
      "['human: 6'] 0.664223849773407\n",
      "['human: 5'] 0.6623471975326538\n",
      "['human: 5'] 0.660162091255188\n",
      "['human: 5'] 0.6589108109474182\n",
      "\n",
      "Search for 'human: 5'\n",
      "[label] distance\n",
      "['human: 5'] 0.9968980550765991\n",
      "['human: 5'] 0.9967982172966003\n",
      "['human: 5'] 0.9953499436378479\n",
      "['human: 5'] 0.9872077703475952\n",
      "['human: 5'] 0.9769371747970581\n",
      "['human: 5'] 0.6983646750450134\n",
      "['human: 6'] 0.6649488210678101\n",
      "['human: 5'] 0.6595138907432556\n",
      "['human: 5'] 0.6572931408882141\n",
      "['human: 5'] 0.6560399532318115\n",
      "\n",
      "Search for 'human: 5'\n",
      "[label] distance\n",
      "['human: 5'] 0.9963771104812622\n",
      "['human: 5'] 0.9962773323059082\n",
      "['human: 5'] 0.9948184490203857\n",
      "['human: 5'] 0.9866805672645569\n",
      "['human: 5'] 0.9764267206192017\n",
      "['human: 5'] 0.6980085372924805\n",
      "['human: 6'] 0.6659027338027954\n",
      "['human: 5'] 0.6601343154907227\n",
      "['human: 5'] 0.6579138040542603\n",
      "['human: 5'] 0.6566612720489502\n"
     ]
    }
   ],
   "source": [
    "def get_label_by_pk(cursor, m_pk, table_name):\n",
    "    sql = \"select label from \" + table_name + \" where pk=\" + str(m_pk) +\";\"\n",
    "    try:\n",
    "        cursor.execute(sql)\n",
    "        myresult = cursor.fetchall()\n",
    "        myresult = [x[0] for x in myresult]\n",
    "        return myresult\n",
    "    except Exception as e:\n",
    "        print(\"MYSQL ERROR: {} with sql: {}\".format(e, sql))\n",
    "        \n",
    "for i in range(len(res)):\n",
    "    print(\"\\nSearch for '{}'\".format(actual_labels[i]))\n",
    "    print('[label]', 'distance')\n",
    "    for x in res[i]:\n",
    "        C = get_label_by_pk(cursor, str(x.id), collection_name)\n",
    "        D = x.distance\n",
    "        print(C, D)"
   ]
  },
  {
   "cell_type": "markdown",
   "id": "a036bafe",
   "metadata": {},
   "source": [
    "#### 2. Compare Similarity\n",
    "\n",
    "According to IP distance value got from similarity search in Milvus, we can compare similarities between organisms.\n",
    "\n",
    "Query search to get embeddings in each Milvus partition of chimp & dog. For now, Milvus2.0 does not support to output embeddings directly."
   ]
  },
  {
   "cell_type": "code",
   "execution_count": null,
   "id": "19f6fb3f",
   "metadata": {},
   "outputs": [],
   "source": [
    "\"\"\"\n",
    "expr_chimp = f\"pk in {DNA_chimp.primary_keys}\"       \n",
    "query_chimp = DNA_collection.query(expr_chimp)\n",
    "\n",
    "expr_dog = f\"pk in {DNA_dog.primary_keys}\"       \n",
    "query_dog = DNA_collection.query(expr_dog)\n",
    "\"\"\""
   ]
  },
  {
   "cell_type": "markdown",
   "id": "e22ef244",
   "metadata": {},
   "source": [
    "Search top 3 results for 800 chimp/dog vectors in human partition. Average distances to reflect how close between chimp/dog and human DNA sequences. The larger the IP distance, the closer between organisims with respect to DNA sequence."
   ]
  },
  {
   "cell_type": "code",
   "execution_count": 20,
   "id": "654eed93",
   "metadata": {
    "scrolled": true
   },
   "outputs": [
    {
     "name": "stdout",
     "output_type": "stream",
     "text": [
      "chimp-human similarity score: 0.9693949215859174\n",
      "dog-human similarity score: 0.7037107430398464\n"
     ]
    }
   ],
   "source": [
    "chimp_res = DNA_collection.search(chimp_emb[:800], \"embedding\", search_params,\n",
    "                                    limit=1, partition_names=['human'])\n",
    "dog_res = DNA_collection.search(dog_emb[:800], \"embedding\", search_params,\n",
    "                                    limit=1, partition_names=['human'])\n",
    "\n",
    "def similarity(search_res):\n",
    "    total_d = 0\n",
    "    for hits in search_res:\n",
    "        total_d = total_d + sum(hits.distances)/len(hits)\n",
    "    return total_d/(len(search_res))\n",
    "\n",
    "print('chimp-human similarity score:', similarity(chimp_res))\n",
    "print('dog-human similarity score:', similarity(dog_res))"
   ]
  },
  {
   "cell_type": "markdown",
   "id": "2018703e",
   "metadata": {},
   "source": [
    "From above similarity scores from milvus, we can tell that chimpanzee is closer to human compared to dog, fitting the [biological research facts](https://education.seattlepi.com/animals-share-human-dna-sequences-6693.html) \"...humans share 98.8 percent of their DNA with bonobos and chimpanzees...Humans and dogs share 84 percent of their DNA\""
   ]
  },
  {
   "cell_type": "code",
   "execution_count": null,
   "id": "a04f9051",
   "metadata": {},
   "outputs": [],
   "source": []
  }
 ],
 "metadata": {
  "kernelspec": {
   "display_name": "Python [conda env:test3.7]",
   "language": "python",
   "name": "conda-env-test3.7-py"
  },
  "language_info": {
   "codemirror_mode": {
    "name": "ipython",
    "version": 3
   },
   "file_extension": ".py",
   "mimetype": "text/x-python",
   "name": "python",
   "nbconvert_exporter": "python",
   "pygments_lexer": "ipython3",
   "version": "3.7.10"
  }
 },
 "nbformat": 4,
 "nbformat_minor": 5
}
