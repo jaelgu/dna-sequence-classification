{
 "cells": [
  {
   "cell_type": "markdown",
   "id": "10b04c32",
   "metadata": {},
   "source": [
    "### Process & Store Datasets\n",
    "\n",
    "#### 1. Get Data\n",
    "\n",
    "Read data from text files as dataframes. Rebuild data and replace original columns with:\n",
    "- sequence --> subsequences by [k-mer](https://en.wikipedia.org/wiki/K-mer#:~:text=Usually%2C%20the%20term%20k%2Dmer,total%20possible%20k%2Dmers%2C%20where) (k=5)\n",
    "- class --> label declaring organism & class (e.g. human: 0)"
   ]
  },
  {
   "cell_type": "code",
   "execution_count": 1,
   "id": "6be95f2b",
   "metadata": {},
   "outputs": [
    {
     "name": "stdout",
     "output_type": "stream",
     "text": [
      "                                            sequence     label  \\\n",
      "0  ATGCCCCAACTAAATACTACCGTATGGCCCACCATAATTACCCCCA...  human: 4   \n",
      "1  ATGAACGAAAATCTGTTCGCTTCATTCATTGCCCCCACAATCCTAG...  human: 4   \n",
      "2  ATGTGTGGCATTTGGGCGCTGTTTGGCAGTGATGATTGCCTTTCTG...  human: 3   \n",
      "3  ATGTGTGGCATTTGGGCGCTGTTTGGCAGTGATGATTGCCTTTCTG...  human: 3   \n",
      "4  ATGCAACAGCATTTTGAATTTGAATACCAGACCAAAGTGGATGGTG...  human: 3   \n",
      "\n",
      "                                               kmers  \n",
      "0  [ATGC, TGCC, GCCC, CCCC, CCCA, CCAA, CAAC, AAC...  \n",
      "1  [ATGA, TGAA, GAAC, AACG, ACGA, CGAA, GAAA, AAA...  \n",
      "2  [ATGT, TGTG, GTGT, TGTG, GTGG, TGGC, GGCA, GCA...  \n",
      "3  [ATGT, TGTG, GTGT, TGTG, GTGG, TGGC, GGCA, GCA...  \n",
      "4  [ATGC, TGCA, GCAA, CAAC, AACA, ACAG, CAGC, AGC...  \n"
     ]
    }
   ],
   "source": [
    "import numpy as np\n",
    "import pandas as pd\n",
    "\n",
    "# Function to get k-mers for sequence s\n",
    "def build_kmers(s, k):\n",
    "    kmers = []\n",
    "    n = len(s) - k + 1\n",
    "\n",
    "    for i in range(n):\n",
    "        kmer = s[i : i+k].upper()\n",
    "        kmers.append(kmer)\n",
    "\n",
    "    return kmers\n",
    "\n",
    "# Function to replace sequence column with kmers in df\n",
    "def seq_to_kmers(df):\n",
    "    df['kmers'] = df.apply(lambda x: build_kmers(x['sequence'], 4), axis =1)\n",
    "    df = df.drop(['sequence'],axis=1)\n",
    "\n",
    "\n",
    "# Read files\n",
    "human = pd.read_table('./data/human_data.txt')\n",
    "chimp = pd.read_table('./data/chimp_data.txt')\n",
    "dog = pd.read_table('./data/dog_data.txt')\n",
    "\n",
    "# Replace classes with labels (organism: class)\n",
    "human['label']=['human: ' + str(x) for x in human['class']]\n",
    "human = human.drop(['class'], axis=1)\n",
    "\n",
    "seq_to_kmers(human)\n",
    "print(human.head())"
   ]
  },
  {
   "cell_type": "code",
   "execution_count": 2,
   "id": "14f3aba4",
   "metadata": {},
   "outputs": [
    {
     "name": "stdout",
     "output_type": "stream",
     "text": [
      "train row count: 3504\n",
      "test row count: 876\n"
     ]
    }
   ],
   "source": [
    "# Get lists of sequences in k-mers and labels in text from dataframe\n",
    "def mydata(df):\n",
    "    texts = []\n",
    "    labels = []\n",
    "    words = list(df['kmers']) # list of all sequences in kmers\n",
    "\n",
    "    for i in range(len(words)):\n",
    "        texts.append(' '.join(words[i])) \n",
    "    \n",
    "    for x in df['label']:\n",
    "        labels.append(x)\n",
    "\n",
    "    if len(texts)!=len(labels):\n",
    "        raise Exception(\"Texts & labels length are not equal!\")\n",
    "        \n",
    "    return (texts, labels)\n",
    "    \n",
    "X, y = mydata(human)\n",
    "\n",
    "from sklearn.model_selection import train_test_split\n",
    "X_train, X_test, y_train, y_test = train_test_split(X, y, test_size=0.2, random_state=42)\n",
    "\n",
    "print(\"train row count:\", len(X_train))\n",
    "print(\"test row count:\", len(X_test))"
   ]
  },
  {
   "cell_type": "markdown",
   "id": "8ee3c37d",
   "metadata": {},
   "source": [
    "#### 2. Generate Embeddings\n",
    "\n",
    "Extract features for DNA sequences (after k-mers) by `CountVectorizer` with previously declared dimension. Normalize output by `sklearn.preprocessing` to get final embeddings."
   ]
  },
  {
   "cell_type": "code",
   "execution_count": 3,
   "id": "c75165f3",
   "metadata": {},
   "outputs": [
    {
     "data": {
      "text/plain": [
       "3504"
      ]
     },
     "execution_count": 3,
     "metadata": {},
     "output_type": "execute_result"
    }
   ],
   "source": [
    "from sklearn.feature_extraction.text import CountVectorizer\n",
    "from sklearn import preprocessing\n",
    "\n",
    "# Transform sequences in kmers to vectors\n",
    "def char_to_vec(v_model, text):\n",
    "    V = v_model.transform(text).toarray()\n",
    "    #features = vectorizer.get_feature_names()\n",
    "    embeddings = preprocessing.normalize(V)\n",
    "    return embeddings\n",
    "\n",
    "# Train vectorizer model \n",
    "vectorizer = CountVectorizer(ngram_range=(4,4), max_features=768)\n",
    "X = vectorizer.fit_transform(X_train).toarray()\n",
    "train_emb = list(preprocessing.normalize(X))\n",
    "# print(vectorizer.get_feature_names())\n",
    "\n",
    "human_emb = list(train_emb)\n",
    "len(human_emb)"
   ]
  },
  {
   "cell_type": "markdown",
   "id": "c5d460f2",
   "metadata": {},
   "source": [
    "#### 1. Classify DNA Sequences\n",
    "\n",
    "The aim is to classify 20 human DNA sequences with labels. Inputs are pre-processed subsequences in text by k-mers (k=4)."
   ]
  },
  {
   "cell_type": "markdown",
   "id": "91054c48",
   "metadata": {},
   "source": [
    "Transform each input to vector with pre-trained vectorizer model."
   ]
  },
  {
   "cell_type": "code",
   "execution_count": 4,
   "id": "307498e3",
   "metadata": {},
   "outputs": [],
   "source": [
    "def get_vector(text, vectorizer):\n",
    "    x = vectorizer.transform(text).toarray()\n",
    "    return list(preprocessing.normalize(x))\n",
    "\n",
    "test_emb = get_vector(X_test, vectorizer)"
   ]
  },
  {
   "cell_type": "code",
   "execution_count": 5,
   "id": "2d77af6a",
   "metadata": {},
   "outputs": [],
   "source": [
    "from sklearn.metrics import accuracy_score\n",
    "\n",
    "def classify_test(classifier, train_X, train_y, test_X):\n",
    "    classifier.fit(train_X, train_y)\n",
    "    y_pred = classifier.predict(test_X)\n",
    "    return y_pred"
   ]
  },
  {
   "cell_type": "code",
   "execution_count": 6,
   "id": "d4cb88f6",
   "metadata": {},
   "outputs": [],
   "source": [
    "from sklearn import svm\n",
    "from sklearn.neighbors import KNeighborsClassifier\n",
    "from sklearn.neighbors import NearestCentroid\n",
    "from sklearn import tree\n",
    "from sklearn.naive_bayes import MultinomialNB\n",
    "\n",
    "clf_svm = svm.SVC()\n",
    "clf_neigh = KNeighborsClassifier(n_neighbors=1)\n",
    "clf_centroid = NearestCentroid()\n",
    "clf_tree = tree.DecisionTreeClassifier()\n",
    "clf_mnb = MultinomialNB()"
   ]
  },
  {
   "cell_type": "code",
   "execution_count": 34,
   "id": "7373edce",
   "metadata": {},
   "outputs": [
    {
     "name": "stdout",
     "output_type": "stream",
     "text": [
      "\n",
      "SVM:\n",
      "time elapsed = 5.6064s\n",
      "accuracy = 0.8881\n",
      "\n",
      "KNN:\n",
      "time elapsed = 0.0763s\n",
      "accuracy = 0.9201\n",
      "\n",
      "NearestCentroid:\n",
      "time elapsed = 0.0185s\n",
      "accuracy = 0.5845\n",
      "\n",
      "DecisionTree:\n",
      "time elapsed = 0.6804s\n",
      "accuracy = 0.7317\n",
      "\n",
      "MultinominalNB:\n",
      "time elapsed = 0.0143s\n",
      "accuracy = 0.5616\n"
     ]
    }
   ],
   "source": [
    "import time\n",
    "\n",
    "x_axis = []\n",
    "y_time = []\n",
    "y_accuracy = []\n",
    "\n",
    "start_time = time.time()\n",
    "print(\"\\nSVM:\")\n",
    "y_pred = classify_test(clf_svm, human_emb, y_train, test_emb)\n",
    "end_time = time.time()\n",
    "print(\"time elapsed = %.4fs\" % (end_time - start_time))\n",
    "print(\"accuracy = %.4f\" % accuracy_score(y_test, y_pred))\n",
    "x_axis.append('SVM')\n",
    "y_time.append(end_time - start_time)\n",
    "y_accuracy.append(accuracy_score(y_test, y_pred))\n",
    "\n",
    "start_time = time.time()\n",
    "print(\"\\nKNN:\")\n",
    "y_pred = classify_test(clf_neigh, human_emb, y_train, test_emb)\n",
    "end_time = time.time()\n",
    "print(\"time elapsed = %.4fs\" % (end_time - start_time))\n",
    "print(\"accuracy = %.4f\" % accuracy_score(y_test, y_pred))\n",
    "x_axis.append('KNN')\n",
    "y_time.append(end_time - start_time)\n",
    "y_accuracy.append(accuracy_score(y_test, y_pred))\n",
    "\n",
    "start_time = time.time()\n",
    "print(\"\\nNearestCentroid:\")\n",
    "y_pred = classify_test(clf_centroid, human_emb, y_train, test_emb)\n",
    "end_time = time.time()\n",
    "print(\"time elapsed = %.4fs\" % (end_time - start_time))\n",
    "print(\"accuracy = %.4f\" % accuracy_score(y_test, y_pred))\n",
    "x_axis.append('NearestCentroid')\n",
    "y_time.append(end_time - start_time)\n",
    "y_accuracy.append(accuracy_score(y_test, y_pred))\n",
    "\n",
    "start_time = time.time()\n",
    "print(\"\\nDecisionTree:\")\n",
    "y_pred = classify_test(clf_tree, human_emb, y_train, test_emb)\n",
    "end_time = time.time()\n",
    "print(\"time elapsed = %.4fs\" % (end_time - start_time))\n",
    "print(\"accuracy = %.4f\" % accuracy_score(y_test, y_pred))\n",
    "x_axis.append('DecisionTree')\n",
    "y_time.append(end_time - start_time)\n",
    "y_accuracy.append(accuracy_score(y_test, y_pred))\n",
    "\n",
    "start_time = time.time()\n",
    "print(\"\\nMultinominalNB:\")\n",
    "y_pred = classify_test(clf_mnb, human_emb, y_train, test_emb)\n",
    "end_time = time.time()\n",
    "print(\"time elapsed = %.4fs\" % (end_time - start_time))\n",
    "print(\"accuracy = %.4f\" % accuracy_score(y_test, y_pred))\n",
    "x_axis.append('MultinominalNB')\n",
    "y_time.append(end_time - start_time)\n",
    "y_accuracy.append(accuracy_score(y_test, y_pred))"
   ]
  },
  {
   "cell_type": "code",
   "execution_count": 8,
   "id": "a04f9051",
   "metadata": {},
   "outputs": [
    {
     "name": "stdout",
     "output_type": "stream",
     "text": [
      "Collection is successfully created: dna_seq\n",
      "Index is successfully set for collection dna_seq\n",
      "create MySQL table successfully!\n",
      "[{\"name\": \"_default\", \"description\": \"\", \"num_entities\": 0}, {\"name\": \"human\", \"description\": \"\", \"num_entities\": 3504}]\n",
      "MYSQL loads data to table: dna_seq successfully\n"
     ]
    }
   ],
   "source": [
    "from pymilvus_orm import *\n",
    "import pymysql\n",
    "\n",
    "connections.connect(host='localhost', port='19530')\n",
    "conn = pymysql.connect(host='localhost', user='root', port=3306, password='123456', database='mysql',local_infile=True)\n",
    "cursor = conn.cursor()\n",
    "\n",
    "import time\n",
    "\n",
    "time.sleep(.1)\n",
    "\n",
    "collection_name = \"dna_seq\"\n",
    "dim = 768\n",
    "\n",
    "# Drop the previously stored collection for a clear run\n",
    "if utility.has_collection(collection_name) == True:\n",
    "    collection = Collection(collection_name)\n",
    "    collection.drop()\n",
    "\n",
    "# Set fields & schema\n",
    "all_fields = [\n",
    "        schema.FieldSchema(name=\"pk\", dtype=DataType.INT64, is_primary=True),\n",
    "        schema.FieldSchema(name=\"embedding\", dtype=DataType.FLOAT_VECTOR, dim=dim)\n",
    "        #schema.FieldSchema(name=\"class\", dtype=DataType.STRING)\n",
    "        ]\n",
    "default_schema = schema.CollectionSchema(fields=all_fields, \n",
    "                                         description=\"DNA recognition: kmers & vectorizer\", \n",
    "                                         auto_id=False)\n",
    "\n",
    "# Create collection\n",
    "DNA_collection = Collection(name=collection_name, data=None, schema=default_schema)\n",
    "\n",
    "# Check if collection is successfully created\n",
    "if utility.has_collection(collection_name):\n",
    "    print(\n",
    "    \"Collection is successfully created: \" + collection_name)\n",
    "else:\n",
    "    raise Exception(\"Fail to create collection: \" + collection_name)\n",
    "    \n",
    "human_partition = DNA_collection.create_partition('human')\n",
    "\n",
    "index_params = {\n",
    "    'index_type': 'IVF_SQ8',\n",
    "    'params': {'nlist': 512},\n",
    "    'metric_type': 'IP'\n",
    "    }\n",
    "\n",
    "DNA_collection.create_index(field_name=\"embedding\", index_params=index_params)\n",
    "\n",
    "# Check if index is successfully set\n",
    "if DNA_collection.has_index():\n",
    "    print(\"Index is successfully set for collection \" + collection_name)\n",
    "else:\n",
    "    raise Exception(\"Fail to set index for collection \" + collection_name)\n",
    "    \n",
    "drop_table = \"DROP TABLE IF EXISTS \" + collection_name + \";\"\n",
    "cursor.execute(drop_table)\n",
    "\n",
    "try:\n",
    "    sql = \"CREATE TABLE if not exists \" + collection_name + \" (pk TEXT, label TEXT);\"\n",
    "    cursor.execute(sql)\n",
    "    print(\"create MySQL table successfully!\")\n",
    "except Exception as e:\n",
    "    print(\"can't create a MySQL table: \", e)\n",
    "    \n",
    "human_pk = [x for x in range(len(human_emb))]\n",
    "\n",
    "if DNA_collection.num_entities == 0:\n",
    "    DNA_human = DNA_collection.insert([human_pk, human_emb], partition_name='human')\n",
    "    if DNA_collection.is_empty:\n",
    "        print(\"Insert collection failed.\")\n",
    "    else:\n",
    "        print(DNA_collection.partitions)\n",
    "else:\n",
    "    print(\"Previous data in this collection!\")\n",
    "    \n",
    "import os \n",
    "\n",
    "# Combine pk and label into a list\n",
    "def format_data(pk, label):\n",
    "    data = []\n",
    "    for i in range(len(pk)):\n",
    "        value = (str(pk[i]), label[i])\n",
    "        data.append(value)\n",
    "    return data\n",
    "\n",
    "def load_data_to_mysql(cursor, conn, table_name, data):\n",
    "    sql = \"insert into \" + table_name + \" (pk,label) values (%s,%s);\"\n",
    "    try:\n",
    "        cursor.executemany(sql, data)\n",
    "        conn.commit()\n",
    "        print(\"MYSQL loads data to table: {} successfully\".format(table_name))\n",
    "    except Exception as e:\n",
    "        print(\"MYSQL ERROR: {} with sql: {}\".format(e, sql))\n",
    "\n",
    "load_data_to_mysql(cursor, conn, collection_name, format_data(human_pk, y_train))"
   ]
  },
  {
   "cell_type": "code",
   "execution_count": 9,
   "id": "5ff84b21",
   "metadata": {},
   "outputs": [],
   "source": [
    "DNA_collection.load()\n",
    "search_params = {\"metric_type\": \"IP\", \"params\": {\"nprobe\": 20}}\n",
    "\n",
    "def get_label_by_pk(cursor, m_pk, table_name):\n",
    "    sql = \"select label from \" + table_name + \" where pk=\" + str(m_pk) +\";\"\n",
    "    try:\n",
    "        cursor.execute(sql)\n",
    "        myresult = cursor.fetchall()\n",
    "        myresult = [x[0] for x in myresult]\n",
    "        return myresult\n",
    "    except Exception as e:\n",
    "        print(\"MYSQL ERROR: {} with sql: {}\".format(e, sql))"
   ]
  },
  {
   "cell_type": "code",
   "execution_count": 36,
   "id": "86e4a1c0",
   "metadata": {},
   "outputs": [
    {
     "name": "stdout",
     "output_type": "stream",
     "text": [
      "\n",
      "Milvus+Mysql:\n",
      "time elapsed = 3.0922s\n",
      "accuracy = 0.9612\n"
     ]
    }
   ],
   "source": [
    "start_time = time.time()\n",
    "print(\"\\nMilvus+Mysql:\")\n",
    "res = DNA_collection.search(test_emb, \"embedding\", search_params, limit=1, partition_names=['human'])\n",
    "mil_res = []\n",
    "for i in range(len(res)):\n",
    "    for x in res[i]:\n",
    "        C = get_label_by_pk(cursor, str(x.id), collection_name)\n",
    "        for x in C:\n",
    "            mil_res.append(x)\n",
    "end_time = time.time()\n",
    "print(\"time elapsed = %.4fs\" % (end_time - start_time))\n",
    "print(\"accuracy = %.4f\" % accuracy_score(y_test, mil_res))\n",
    "x_axis.append('Milvus+Mysql')\n",
    "y_time.append(end_time - start_time)\n",
    "y_accuracy.append(accuracy_score(y_test, mil_res))"
   ]
  },
  {
   "cell_type": "code",
   "execution_count": 49,
   "id": "50bce13b",
   "metadata": {},
   "outputs": [
    {
     "data": {
      "text/plain": [
       "[<matplotlib.lines.Line2D at 0x7fa4785c7f50>]"
      ]
     },
     "execution_count": 49,
     "metadata": {},
     "output_type": "execute_result"
    },
    {
     "data": {
      "image/png": "[encoded data removed]",
      "text/plain": [
       "<Figure size 576x144 with 1 Axes>"
      ]
     },
     "metadata": {
      "needs_background": "light"
     },
     "output_type": "display_data"
    }
   ],
   "source": [
    "import matplotlib.pyplot as plt\n",
    "plt.figure(figsize=(8, 2))\n",
    "plt.ylabel('accuracy')\n",
    "plt.ylim([0.5,1])\n",
    "plt.plot(x_axis, y_accuracy)"
   ]
  },
  {
   "cell_type": "code",
   "execution_count": null,
   "id": "1d8eefbd",
   "metadata": {},
   "outputs": [],
   "source": []
  }
 ],
 "metadata": {
  "kernelspec": {
   "display_name": "Python [conda env:test3.7]",
   "language": "python",
   "name": "conda-env-test3.7-py"
  },
  "language_info": {
   "codemirror_mode": {
    "name": "ipython",
    "version": 3
   },
   "file_extension": ".py",
   "mimetype": "text/x-python",
   "name": "python",
   "nbconvert_exporter": "python",
   "pygments_lexer": "ipython3",
   "version": "3.7.10"
  }
 },
 "nbformat": 4,
 "nbformat_minor": 5
}
